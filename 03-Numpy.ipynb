{
 "cells": [
  {
   "cell_type": "code",
   "execution_count": 6,
   "metadata": {
    "collapsed": true
   },
   "outputs": [
    {
     "name": "stdout",
     "output_type": "stream",
     "text": [
      "abu path --> D:\\WORKSPACE-PYTHON\\abu\n"
     ]
    },
    {
     "name": "stderr",
     "output_type": "stream",
     "text": [
      "enable example env will only read RomDataBu/csv\n"
     ]
    }
   ],
   "source": [
    "from __future__ import print_function\n",
    "import os\n",
    "import sys\n",
    "abuPath=os.path.abspath('../abu')\n",
    "print('abu path --> %s' %abuPath)\n",
    "sys.path.insert(0,abuPath)\n",
    "import abupy\n",
    "abupy.env.enable_example_env_ipython()\n",
    "\n",
    "import seaborn as sns\n",
    "import matplotlib.pyplot as plt\n",
    "\n",
    "%matplotlib inline\n",
    "sns.set_context(rc={'figure.figsize': (14, 7) } )\n",
    "figzize_me = figsize =(14, 7)\n",
    "\n"
   ]
  },
  {
   "cell_type": "code",
   "execution_count": 7,
   "metadata": {},
   "outputs": [
    {
     "name": "stdout",
     "output_type": "stream",
     "text": [
      "3.6.3 |Anaconda, Inc.| (default, Oct 15 2017, 03:27:45) [MSC v.1900 64 bit (AMD64)]\n"
     ]
    }
   ],
   "source": [
    "print(sys.version)"
   ]
  },
  {
   "cell_type": "markdown",
   "metadata": {},
   "source": [
    "### 并行化思想与基础操作"
   ]
  },
  {
   "cell_type": "code",
   "execution_count": 8,
   "metadata": {
    "collapsed": true
   },
   "outputs": [],
   "source": [
    "import numpy as np"
   ]
  },
  {
   "cell_type": "code",
   "execution_count": 9,
   "metadata": {},
   "outputs": [
    {
     "name": "stdout",
     "output_type": "stream",
     "text": [
      "307 ns ± 1.66 ns per loop (mean ± std. dev. of 7 runs, 1000000 loops each)\n"
     ]
    }
   ],
   "source": [
    "normal_list=range(10000)\n",
    "%timeit(i**2 for i in normal_list)"
   ]
  },
  {
   "cell_type": "code",
   "execution_count": 10,
   "metadata": {},
   "outputs": [
    {
     "name": "stdout",
     "output_type": "stream",
     "text": [
      "7.67 µs ± 30.3 ns per loop (mean ± std. dev. of 7 runs, 100000 loops each)\n"
     ]
    }
   ],
   "source": [
    "np_list=np.arange(10000)\n",
    "%timeit np_list**2"
   ]
  },
  {
   "cell_type": "code",
   "execution_count": 11,
   "metadata": {},
   "outputs": [
    {
     "name": "stdout",
     "output_type": "stream",
     "text": [
      "[ 3.  3.  3.  3.  3.]\n",
      "[1, 1, 1, 1, 1, 1, 1, 1, 1, 1, 1, 1, 1, 1, 1]\n"
     ]
    }
   ],
   "source": [
    "#Numpy数组和普通列表操作方式不同。Numpy通过广播机制作用于每个内部元素，是一种并行化执行的思想\n",
    "#普通list则作用于整体\n",
    "\n",
    "#注意*3的操作被运行在每一个元素\n",
    "np_list=np.ones(5)*3\n",
    "print(np_list)\n",
    "\n",
    "#普通的列表把*3操作认为是整体性操作\n",
    "normal_list=[1,1,1,1,1]*3\n",
    "print(normal_list)"
   ]
  },
  {
   "cell_type": "code",
   "execution_count": 12,
   "metadata": {},
   "outputs": [
    {
     "name": "stdout",
     "output_type": "stream",
     "text": [
      "100个0\n",
      "[ 0.  0.  0.  0.  0.  0.  0.  0.  0.  0.  0.  0.  0.  0.  0.  0.  0.  0.\n",
      "  0.  0.  0.  0.  0.  0.  0.  0.  0.  0.  0.  0.  0.  0.  0.  0.  0.  0.\n",
      "  0.  0.  0.  0.  0.  0.  0.  0.  0.  0.  0.  0.  0.  0.  0.  0.  0.  0.\n",
      "  0.  0.  0.  0.  0.  0.  0.  0.  0.  0.  0.  0.  0.  0.  0.  0.  0.  0.\n",
      "  0.  0.  0.  0.  0.  0.  0.  0.  0.  0.  0.  0.  0.  0.  0.  0.  0.  0.\n",
      "  0.  0.  0.  0.  0.  0.  0.  0.  0.  0.]\n",
      "shape: 3行2列 全是0\n",
      "[[ 0.  0.]\n",
      " [ 0.  0.]\n",
      " [ 0.  0.]]\n",
      "shape: 3行2列 全是1\n",
      "[[ 1.  1.]\n",
      " [ 1.  1.]\n",
      " [ 1.  1.]]\n",
      "shape: x=2 ,y=3 ,z=3值随机\n",
      "[[[ 4.0003  1.658   4.8288]\n",
      "  [ 4.3534  1.6016  3.7947]\n",
      "  [ 4.7343  1.5768  3.2396]]\n",
      "\n",
      " [[ 5.214   1.6077  3.3449]\n",
      "  [ 5.6481  1.6274  3.3455]\n",
      "  [ 5.9296  1.5929  2.8223]]]\n",
      "初始化序列与np_list 一样的shape,值全为1\n",
      "[ 1.  1.  1.  1.  1.]\n",
      "初始化序列与np_list 一样的shape,值全为0\n",
      "[ 0.  0.  0.  0.  0.]\n",
      "eye()得到对角线全为1的单位矩阵\n",
      "[[ 1.  0.  0.  0.  0.  0.  0.]\n",
      " [ 0.  1.  0.  0.  0.  0.  0.]\n",
      " [ 0.  0.  1.  0.  0.  0.  0.]\n",
      " [ 0.  0.  0.  1.  0.  0.  0.]\n",
      " [ 0.  0.  0.  0.  1.  0.  0.]\n",
      " [ 0.  0.  0.  0.  0.  1.  0.]\n",
      " [ 0.  0.  0.  0.  0.  0.  1.]]\n"
     ]
    }
   ],
   "source": [
    "#初始化操作\n",
    "print('100个0')\n",
    "print(np.zeros(100))\n",
    "print('shape: 3行2列 全是0')\n",
    "print(np.zeros((3,2)))\n",
    "print('shape: 3行2列 全是1')\n",
    "print(np.ones((3,2)))\n",
    "print('shape: x=2 ,y=3 ,z=3值随机')\n",
    "print(np.empty((2,3,3)))\n",
    "print('初始化序列与np_list 一样的shape,值全为1')\n",
    "print(np.ones_like(np_list))\n",
    "print('初始化序列与np_list 一样的shape,值全为0')\n",
    "print(np.zeros_like(np_list))\n",
    "print('eye()得到对角线全为1的单位矩阵')\n",
    "print(np.eye(7))\n"
   ]
  },
  {
   "cell_type": "code",
   "execution_count": 13,
   "metadata": {},
   "outputs": [
    {
     "data": {
      "text/plain": [
       "array([[1, 2, 3, 4],\n",
       "       [5, 6, 7, 8]])"
      ]
     },
     "execution_count": 13,
     "metadata": {},
     "output_type": "execute_result"
    }
   ],
   "source": [
    "#将普通list作为参数，通过np.array来初始化\n",
    "data=[[1,2,3,4],[5,6,7,8]]\n",
    "arr_np=np.array(data)\n",
    "arr_np"
   ]
  },
  {
   "cell_type": "code",
   "execution_count": 14,
   "metadata": {},
   "outputs": [
    {
     "data": {
      "text/plain": [
       "array([ 0.    ,  0.1111,  0.2222,  0.3333,  0.4444,  0.5556,  0.6667,\n",
       "        0.7778,  0.8889,  1.    ])"
      ]
     },
     "execution_count": 14,
     "metadata": {},
     "output_type": "execute_result"
    }
   ],
   "source": [
    "#使用linspace()在0~1之间等间隔生成10个元素序列\n",
    "#help(np.linspace)\n",
    "np.linspace(0,1,10)"
   ]
  },
  {
   "cell_type": "code",
   "execution_count": 15,
   "metadata": {},
   "outputs": [
    {
     "name": "stdout",
     "output_type": "stream",
     "text": [
      "打印shape(200,504) 200行504列\n",
      "(200, 504)\n",
      "[[ 0.7299 -0.6169 -0.7179 ...,  0.4026  0.8495 -1.1265]\n",
      " [ 0.4757 -0.7292 -1.2187 ...,  0.6667  0.5293 -0.731 ]\n",
      " [-1.348   0.4887 -1.4715 ...,  0.1385 -0.9748 -0.0674]\n",
      " ..., \n",
      " [ 0.4051  1.0188 -0.2692 ..., -2.1855 -0.7773 -1.948 ]\n",
      " [-0.7319 -1.5576  1.5542 ..., -0.3233 -0.6279  0.0001]\n",
      " [ 1.0104 -0.8024  0.3315 ...,  0.7589 -0.0486  1.5996]]\n"
     ]
    }
   ],
   "source": [
    "#使用np.random.standard_normal()随机生成200个股票504个交易日服从正态分布的涨跌数据\n",
    "stock_cnt=200\n",
    "view_days=504\n",
    "#生成服从正态分布，均值期望=0 标准差=1的序列\n",
    "stock_day_change=np.random.standard_normal((stock_cnt,view_days))\n",
    "print('打印shape(200,504) 200行504列')\n",
    "print(stock_day_change.shape)\n",
    "print(stock_day_change)"
   ]
  },
  {
   "cell_type": "code",
   "execution_count": 16,
   "metadata": {},
   "outputs": [
    {
     "name": "stdout",
     "output_type": "stream",
     "text": [
      "打印第一只股票，前5个交易日的涨跌幅情况\n",
      "[[ 0.7299 -0.6169 -0.7179  0.2682  1.0788]]\n"
     ]
    }
   ],
   "source": [
    "print('打印第一只股票，前5个交易日的涨跌幅情况')\n",
    "print(stock_day_change[:1,:5])"
   ]
  },
  {
   "cell_type": "code",
   "execution_count": 17,
   "metadata": {},
   "outputs": [
    {
     "name": "stdout",
     "output_type": "stream",
     "text": [
      "打印第一只，第二只股票，0:5前5个交易日的涨跌幅数据\n",
      "[[ 0.7299 -0.6169 -0.7179  0.2682  1.0788]\n",
      " [ 0.4757 -0.7292 -1.2187 -0.3702  0.4939]]\n"
     ]
    }
   ],
   "source": [
    "print('打印第一只，第二只股票，0:5前5个交易日的涨跌幅数据')\n",
    "print(stock_day_change[:2,:5])"
   ]
  },
  {
   "cell_type": "code",
   "execution_count": 18,
   "metadata": {},
   "outputs": [
    {
     "name": "stdout",
     "output_type": "stream",
     "text": [
      "倒数第一只，第二只股票，最后5个交易日的涨跌幅数据\n",
      "[[ 1.3164 -0.1436 -0.3233 -0.6279  0.0001]\n",
      " [-0.7564  0.0734  0.7589 -0.0486  1.5996]]\n"
     ]
    }
   ],
   "source": [
    "print('倒数第一只，第二只股票，最后5个交易日的涨跌幅数据')\n",
    "print(stock_day_change[-2:,-5:])"
   ]
  },
  {
   "cell_type": "code",
   "execution_count": 19,
   "metadata": {},
   "outputs": [
    {
     "name": "stdout",
     "output_type": "stream",
     "text": [
      "交换数据\n",
      "[[ 1.3164 -0.1436 -0.3233 -0.6279  0.0001]\n",
      " [-0.7564  0.0734  0.7589 -0.0486  1.5996]]\n",
      "[[ 0.7299 -0.6169 -0.7179  0.2682  1.0788]\n",
      " [ 0.4757 -0.7292 -1.2187 -0.3702  0.4939]]\n"
     ]
    }
   ],
   "source": [
    "print('交换数据')\n",
    "#tmp=a\n",
    "tmp=stock_day_change[:2,:5].copy()\n",
    "#a=b\n",
    "stock_day_change[:2,:5]=stock_day_change[-2:,-5:]\n",
    "#b=tmp\n",
    "stock_day_change[-2:,-5:]=tmp\n",
    "\n",
    "print(stock_day_change[:2,:5])\n",
    "\n",
    "print(stock_day_change[-2:,-5:])\n"
   ]
  },
  {
   "cell_type": "code",
   "execution_count": 20,
   "metadata": {},
   "outputs": [
    {
     "name": "stdout",
     "output_type": "stream",
     "text": [
      "数据转换与规整\n",
      "[[1 0 0 0 0]\n",
      " [0 0 0 0 1]]\n"
     ]
    }
   ],
   "source": [
    "print('数据转换与规整')\n",
    "print(stock_day_change[:2,:5].astype(int))"
   ]
  },
  {
   "cell_type": "code",
   "execution_count": 21,
   "metadata": {},
   "outputs": [
    {
     "name": "stdout",
     "output_type": "stream",
     "text": [
      "保留两位小数\n",
      "[[ 1.32 -0.14 -0.32 -0.63  0.  ]\n",
      " [-0.76  0.07  0.76 -0.05  1.6 ]]\n"
     ]
    }
   ],
   "source": [
    "print('保留两位小数')\n",
    "print(np.around(stock_day_change[:2,:5],2))"
   ]
  },
  {
   "cell_type": "code",
   "execution_count": 22,
   "metadata": {},
   "outputs": [
    {
     "name": "stdout",
     "output_type": "stream",
     "text": [
      "处理数据缺失\n"
     ]
    },
    {
     "data": {
      "text/plain": [
       "array([[    nan, -0.1436, -0.3233, -0.6279,  0.0001],\n",
       "       [-0.7564,  0.0734,  0.7589, -0.0486,  1.5996]])"
      ]
     },
     "execution_count": 22,
     "metadata": {},
     "output_type": "execute_result"
    }
   ],
   "source": [
    "print('处理数据缺失')\n",
    "tmp_test=stock_day_change[:2,:5].copy()\n",
    "#将第一个元素改成nan\n",
    "tmp_test[0][0]=np.nan\n",
    "tmp_test"
   ]
  },
  {
   "cell_type": "code",
   "execution_count": 23,
   "metadata": {},
   "outputs": [
    {
     "name": "stdout",
     "output_type": "stream",
     "text": [
      "[[ 0.     -0.1436 -0.3233 -0.6279  0.0001]\n",
      " [-0.7564  0.0734  0.7589 -0.0486  1.5996]]\n"
     ]
    }
   ],
   "source": [
    "#np.nan_to_num()用0来填充\n",
    "tmp_test=np.nan_to_num(tmp_test)\n",
    "print(tmp_test)"
   ]
  },
  {
   "cell_type": "markdown",
   "metadata": {},
   "source": [
    "#### 逻辑条件进行数据筛选"
   ]
  },
  {
   "cell_type": "code",
   "execution_count": 24,
   "metadata": {},
   "outputs": [
    {
     "name": "stdout",
     "output_type": "stream",
     "text": [
      "找出切片内涨幅超过0.5的股票时段\n",
      "[[ True False False False False]\n",
      " [False False  True False  True]]\n",
      "[ 1.3164  0.7589  1.5996]\n"
     ]
    }
   ],
   "source": [
    "print('找出切片内涨幅超过0.5的股票时段')\n",
    "mask=stock_day_change[:2,:5]>0.5\n",
    "print(mask)\n",
    "\n",
    "tmp_test=stock_day_change[:2,:5].copy()\n",
    "print(tmp_test[mask])"
   ]
  },
  {
   "cell_type": "code",
   "execution_count": 25,
   "metadata": {},
   "outputs": [
    {
     "name": "stdout",
     "output_type": "stream",
     "text": [
      "找到tmp_test切片中>0.5的元素，赋值为1\n",
      "[[ 1.     -0.1436 -0.3233 -0.6279  0.0001]\n",
      " [-0.7564  0.0734  1.     -0.0486  1.    ]]\n"
     ]
    }
   ],
   "source": [
    "print('找到tmp_test切片中>0.5的元素，赋值为1')\n",
    "tmp_test[tmp_test>0.5]=1\n",
    "print(tmp_test)"
   ]
  },
  {
   "cell_type": "code",
   "execution_count": 26,
   "metadata": {},
   "outputs": [
    {
     "name": "stdout",
     "output_type": "stream",
     "text": [
      "多重筛选条件\n",
      "[[ 0.7299 -0.6169 -0.7179  0.2682  1.0788]\n",
      " [ 0.4757 -0.7292 -1.2187 -0.3702  0.4939]]\n",
      "[ 1.0788 -1.2187]\n"
     ]
    }
   ],
   "source": [
    "print('多重筛选条件')\n",
    "temp_test=stock_day_change[-2:,-5:]\n",
    "print(temp_test)\n",
    "print(temp_test[(temp_test>1)|(temp_test<-1)])"
   ]
  },
  {
   "cell_type": "markdown",
   "metadata": {},
   "source": [
    "#### 通用序列函数"
   ]
  },
  {
   "cell_type": "code",
   "execution_count": 27,
   "metadata": {},
   "outputs": [
    {
     "name": "stdout",
     "output_type": "stream",
     "text": [
      "np.all 判断序列中的所有元素是否全部是true ,即对bool 序列进行与操作\n",
      "False\n"
     ]
    }
   ],
   "source": [
    "print('np.all 判断序列中的所有元素是否全部是true ,即对bool 序列进行与操作')\n",
    "print(np.all(stock_day_change[:2,:5]>0))"
   ]
  },
  {
   "cell_type": "code",
   "execution_count": 28,
   "metadata": {},
   "outputs": [
    {
     "name": "stdout",
     "output_type": "stream",
     "text": [
      "np.any 判断序列中是否有元素为true ,即对bool序列进行或操作\n",
      "True\n"
     ]
    }
   ],
   "source": [
    "print('np.any 判断序列中是否有元素为true ,即对bool序列进行或操作')\n",
    "print(np.any(stock_day_change[:2,:5]>0))"
   ]
  },
  {
   "cell_type": "code",
   "execution_count": 29,
   "metadata": {},
   "outputs": [
    {
     "name": "stdout",
     "output_type": "stream",
     "text": [
      "对2个序列对应的元素两两比较，maximum()结果集取大，相对minimum()取小的结果集\n",
      "[[ 1.3164 -0.1436 -0.3233  0.2682  1.0788]\n",
      " [ 0.4757  0.0734  0.7589 -0.0486  1.5996]]\n"
     ]
    }
   ],
   "source": [
    "print('对2个序列对应的元素两两比较，maximum()结果集取大，相对minimum()取小的结果集')\n",
    "\n",
    "print(np.maximum(stock_day_change[:2,:5],stock_day_change[-2:,-5:]))"
   ]
  },
  {
   "cell_type": "code",
   "execution_count": 30,
   "metadata": {},
   "outputs": [
    {
     "name": "stdout",
     "output_type": "stream",
     "text": [
      "[[1 0 0 0 0]\n",
      " [0 0 0 0 1]]\n",
      "np.unique()序列中数值唯一且不重复的值组成新的序列\n",
      "[0 1]\n"
     ]
    }
   ],
   "source": [
    "change_int=stock_day_change[:2,:5].astype(int)\n",
    "print(change_int)\n",
    "print('np.unique()序列中数值唯一且不重复的值组成新的序列')\n",
    "print(np.unique(change_int))"
   ]
  },
  {
   "cell_type": "code",
   "execution_count": 31,
   "metadata": {},
   "outputs": [
    {
     "name": "stdout",
     "output_type": "stream",
     "text": [
      "np.diff()执行的操作是前后2个临近的数值进行减法运算，默认axis=1代表操作轴向\n",
      "[[ 1.3164 -0.1436 -0.3233 -0.6279  0.0001]\n",
      " [-0.7564  0.0734  0.7589 -0.0486  1.5996]]\n",
      "[[-1.46   -0.1797 -0.3046  0.628 ]\n",
      " [ 0.8298  0.6854 -0.8074  1.6482]]\n"
     ]
    }
   ],
   "source": [
    "print('np.diff()执行的操作是前后2个临近的数值进行减法运算，默认axis=1代表操作轴向')\n",
    "\n",
    "print(stock_day_change[:2,:5])\n",
    "\n",
    "print(np.diff(stock_day_change[:2,:5]))\n"
   ]
  },
  {
   "cell_type": "code",
   "execution_count": 32,
   "metadata": {},
   "outputs": [
    {
     "name": "stdout",
     "output_type": "stream",
     "text": [
      "np.where()第一个参数是条件表达式，成立走第二个，否则走第三个\n",
      "[[ 0.7299 -0.6169 -0.7179  0.2682  1.0788]\n",
      " [ 0.4757 -0.7292 -1.2187 -0.3702  0.4939]]\n",
      "[[1 0 0 0 1]\n",
      " [0 0 0 0 0]]\n"
     ]
    }
   ],
   "source": [
    "print('np.where()第一个参数是条件表达式，成立走第二个，否则走第三个')\n",
    "tmp_test=stock_day_change[-2:,-5:]\n",
    "print(tmp_test)\n",
    "print(np.where(tmp_test>0.5,1,0))"
   ]
  },
  {
   "cell_type": "code",
   "execution_count": 33,
   "metadata": {},
   "outputs": [
    {
     "name": "stdout",
     "output_type": "stream",
     "text": [
      "如果逻辑表达式为复合逻辑条件，则使用np.logical_and()和np.logical_or()函数\n",
      "[[ 0.7299 -0.6169 -0.7179  0.2682  1.0788]\n",
      " [ 0.4757 -0.7292 -1.2187 -0.3702  0.4939]]\n",
      "[[1 0 0 0 0]\n",
      " [0 0 0 0 0]]\n"
     ]
    }
   ],
   "source": [
    "print('如果逻辑表达式为复合逻辑条件，则使用np.logical_and()和np.logical_or()函数')\n",
    "print(tmp_test)\n",
    "print(np.where(np.logical_and(tmp_test>0.5,tmp_test<1),1,0))\n"
   ]
  },
  {
   "cell_type": "markdown",
   "metadata": {},
   "source": [
    "#### 数据本地序列化操作"
   ]
  },
  {
   "cell_type": "code",
   "execution_count": 34,
   "metadata": {},
   "outputs": [
    {
     "name": "stdout",
     "output_type": "stream",
     "text": [
      "保存\n"
     ]
    }
   ],
   "source": [
    "print('保存')\n",
    "np.save('./gen/stock_day_change',stock_day_change)"
   ]
  },
  {
   "cell_type": "code",
   "execution_count": 35,
   "metadata": {},
   "outputs": [
    {
     "name": "stdout",
     "output_type": "stream",
     "text": [
      "读取\n",
      "(200, 504)\n",
      "[[ 1.3164 -0.1436 -0.3233 -0.6279  0.0001]\n",
      " [-0.7564  0.0734  0.7589 -0.0486  1.5996]]\n"
     ]
    }
   ],
   "source": [
    "print('读取')\n",
    "stock_day_change=np.load('./gen/stock_day_change.npy')\n",
    "print(stock_day_change.shape)\n",
    "print(stock_day_change[:2,:5])"
   ]
  },
  {
   "cell_type": "markdown",
   "metadata": {},
   "source": [
    "#### 基础统计概念与函数使用"
   ]
  },
  {
   "cell_type": "code",
   "execution_count": 36,
   "metadata": {},
   "outputs": [
    {
     "name": "stdout",
     "output_type": "stream",
     "text": [
      "取出前4只股票，前4天的涨跌幅数据\n",
      "[[ 1.3164 -0.1436 -0.3233 -0.6279]\n",
      " [-0.7564  0.0734  0.7589 -0.0486]\n",
      " [-1.348   0.4887 -1.4715  0.1874]\n",
      " [ 0.3727  0.8185  1.2477  1.4759]]\n"
     ]
    }
   ],
   "source": [
    "print('取出前4只股票，前4天的涨跌幅数据')\n",
    "stock_day_change_four=stock_day_change[:4,:4]\n",
    "print(stock_day_change_four)"
   ]
  },
  {
   "cell_type": "code",
   "execution_count": 37,
   "metadata": {},
   "outputs": [
    {
     "name": "stdout",
     "output_type": "stream",
     "text": [
      "最大涨幅\n",
      "[ 1.3164  0.7589  0.4887  1.4759]\n"
     ]
    }
   ],
   "source": [
    "print('最大涨幅')\n",
    "print(np.max(stock_day_change_four,axis=1))"
   ]
  },
  {
   "cell_type": "code",
   "execution_count": 38,
   "metadata": {},
   "outputs": [
    {
     "name": "stdout",
     "output_type": "stream",
     "text": [
      "最大跌幅\n",
      "[-0.6279 -0.7564 -1.4715  0.3727]\n"
     ]
    }
   ],
   "source": [
    "print('最大跌幅')\n",
    "print(np.min(stock_day_change_four,axis=1))"
   ]
  },
  {
   "cell_type": "code",
   "execution_count": 39,
   "metadata": {},
   "outputs": [
    {
     "name": "stdout",
     "output_type": "stream",
     "text": [
      "振幅幅度\n",
      "[ 0.7483  0.5375  0.8814  0.422 ]\n"
     ]
    }
   ],
   "source": [
    "print('振幅幅度')\n",
    "print(np.std(stock_day_change_four,axis=1))"
   ]
  },
  {
   "cell_type": "markdown",
   "metadata": {},
   "source": [
    "print('平均涨跌')\n",
    "print(np.mean(stock_day_change_four,axis=1))"
   ]
  },
  {
   "cell_type": "code",
   "execution_count": 40,
   "metadata": {},
   "outputs": [
    {
     "name": "stdout",
     "output_type": "stream",
     "text": [
      "纵向统计数据，找到4个交易日最大涨幅\n",
      "[ 1.3164  0.8185  1.2477  1.4759]\n"
     ]
    }
   ],
   "source": [
    "print('纵向统计数据，找到4个交易日最大涨幅')\n",
    "print(np.max(stock_day_change_four,axis=0))"
   ]
  },
  {
   "cell_type": "code",
   "execution_count": 41,
   "metadata": {},
   "outputs": [
    {
     "name": "stdout",
     "output_type": "stream",
     "text": [
      "使用np.argmax()统计当日涨幅最大的股票属于那一只\n",
      "[0 3 3 3]\n"
     ]
    }
   ],
   "source": [
    "print('使用np.argmax()统计当日涨幅最大的股票属于那一只')\n",
    "print(np.argmax(stock_day_change_four,axis=0))"
   ]
  },
  {
   "cell_type": "code",
   "execution_count": 42,
   "metadata": {},
   "outputs": [
    {
     "name": "stdout",
     "output_type": "stream",
     "text": [
      "使用np.argmax()统计当日跌幅最大的股票属于那一只\n",
      "[2 0 2 0]\n"
     ]
    }
   ],
   "source": [
    "print('使用np.argmax()统计当日跌幅最大的股票属于那一只')\n",
    "print(np.argmin(stock_day_change_four,axis=0))"
   ]
  },
  {
   "cell_type": "markdown",
   "metadata": {},
   "source": [
    "#### 期望：反映一组数据平均取值的大小，用于表示分布的中心位置"
   ]
  },
  {
   "cell_type": "markdown",
   "metadata": {},
   "source": [
    "####  方差：衡量一组数据的离散程度，用来度量数据和期望之间的离散程度，方差越大，数据越离散"
   ]
  },
  {
   "cell_type": "markdown",
   "metadata": {},
   "source": [
    "#### 标准差：方差的算术平方根，标准差和变量的计算单位相同，比方差清晰。"
   ]
  },
  {
   "cell_type": "code",
   "execution_count": 43,
   "metadata": {
    "collapsed": true
   },
   "outputs": [],
   "source": [
    "#help(np.random.normal)\n",
    "#a,b交易者，期望值100，a的标准差50，b标准差20\n",
    "\n",
    "a_investor=np.random.normal(loc=100,scale=50,size=(100,1))\n",
    "b_investor=np.random.normal(loc=100,scale=20,size=(100,1))"
   ]
  },
  {
   "cell_type": "code",
   "execution_count": 44,
   "metadata": {},
   "outputs": [
    {
     "name": "stdout",
     "output_type": "stream",
     "text": [
      "a交易者\n",
      "期望值94.30,标准差49.99,方差2499.40\n"
     ]
    }
   ],
   "source": [
    "print('a交易者')\n",
    "print('期望值{0:.2f},标准差{1:.2f},方差{2:.2f}'.format(a_investor.mean(),a_investor.std(),a_investor.var()))"
   ]
  },
  {
   "cell_type": "code",
   "execution_count": 45,
   "metadata": {},
   "outputs": [
    {
     "name": "stdout",
     "output_type": "stream",
     "text": [
      "b交易者\n",
      "期望值98.84,标准差20.69,方差427.90\n"
     ]
    }
   ],
   "source": [
    "print('b交易者')\n",
    "print('期望值{0:.2f},标准差{1:.2f},方差{2:.2f}'.format(b_investor.mean(),b_investor.std(),b_investor.var()))"
   ]
  },
  {
   "cell_type": "code",
   "execution_count": 46,
   "metadata": {},
   "outputs": [
    {
     "name": "stdout",
     "output_type": "stream",
     "text": [
      "进行可视化-a交易者\n"
     ]
    },
    {
     "data": {
      "text/plain": [
       "<matplotlib.lines.Line2D at 0xfac36d8>"
      ]
     },
     "execution_count": 46,
     "metadata": {},
     "output_type": "execute_result"
    },
    {
     "data": {
      "image/png": "[encoded data removed]",
      "text/plain": [
       "<matplotlib.figure.Figure at 0xfa34048>"
      ]
     },
     "metadata": {},
     "output_type": "display_data"
    }
   ],
   "source": [
    "print('进行可视化-a交易者')\n",
    "\n",
    "#a的期望值\n",
    "a_mean=a_investor.mean()\n",
    "#a交易者标准差\n",
    "a_std=a_investor.std()\n",
    "\n",
    "#绘制收益曲线\n",
    "\n",
    "plt.plot(a_investor)\n",
    "\n",
    "#水平直线-上线\n",
    "\n",
    "plt.axhline(a_mean+a_std,color='r')\n",
    "\n",
    "#均值期望线\n",
    "\n",
    "plt.axhline(a_mean,color='y')\n",
    "\n",
    "#水平直线-下线\n",
    "\n",
    "plt.axhline(a_mean-a_mean,color='g')"
   ]
  },
  {
   "cell_type": "markdown",
   "metadata": {
    "collapsed": true
   },
   "source": [
    "#### 正态分布"
   ]
  },
  {
   "cell_type": "code",
   "execution_count": 47,
   "metadata": {
    "collapsed": true
   },
   "outputs": [],
   "source": [
    "#对于正态分布，数据标准差越大，数据分布离散程度越大\n",
    "#对于正态分布，数据的期望位于曲线的对称轴中心"
   ]
  },
  {
   "cell_type": "code",
   "execution_count": 48,
   "metadata": {
    "collapsed": true
   },
   "outputs": [],
   "source": [
    "stock_day_change=np.random.standard_normal((200,504))"
   ]
  },
  {
   "cell_type": "code",
   "execution_count": 49,
   "metadata": {},
   "outputs": [
    {
     "name": "stdout",
     "output_type": "stream",
     "text": [
      "股票0 mean:-0.032\n",
      "股票0 std:0.955\n"
     ]
    }
   ],
   "source": [
    "import scipy.stats as scs\n",
    "#均值期望\n",
    "stock_mean=stock_day_change[0].mean()\n",
    "#标准差\n",
    "stock_std=stock_day_change[0].std()\n",
    "\n",
    "print('股票0 mean:{:.3f}'.format(stock_mean))\n",
    "print('股票0 std:{:.3f}'.format(stock_std))\n"
   ]
  },
  {
   "cell_type": "code",
   "execution_count": 50,
   "metadata": {},
   "outputs": [
    {
     "name": "stdout",
     "output_type": "stream",
     "text": [
      "绘制直方图\n",
      "从股票0最小值->最大值生成数据\n",
      "概率密度函数(pdf,probability density function)\n",
      "由均值，方差来描述曲线\n",
      "使用scipy.stats.norm.pdf生成拟合曲线\n",
      "[ 0.0041  0.0059  0.0084  0.0118  0.0163  0.0221  0.0295  0.0389  0.0505\n",
      "  0.0646  0.0813  0.1008  0.1231  0.1481  0.1755  0.2048  0.2355  0.2666\n",
      "  0.2974  0.3267  0.3535  0.3767  0.3954  0.4088  0.4164  0.4176  0.4126\n",
      "  0.4015  0.3849  0.3633  0.3379  0.3095  0.2792  0.2481  0.2171  0.1872\n",
      "  0.1589  0.1329  0.1095  0.0888  0.071   0.0559  0.0433  0.0331  0.0249\n",
      "  0.0184  0.0135  0.0097  0.0068  0.0048]\n"
     ]
    },
    {
     "data": {
      "text/plain": [
       "[<matplotlib.lines.Line2D at 0xffcef28>]"
      ]
     },
     "execution_count": 50,
     "metadata": {},
     "output_type": "execute_result"
    },
    {
     "data": {
      "image/png": "[encoded data removed]",
      "text/plain": [
       "<matplotlib.figure.Figure at 0xfa08b38>"
      ]
     },
     "metadata": {},
     "output_type": "display_data"
    }
   ],
   "source": [
    "print('绘制直方图')\n",
    "plt.hist(stock_day_change[0],bins=50,normed=True)\n",
    "print('从股票0最小值->最大值生成数据')\n",
    "fit_linspace=np.linspace(stock_day_change[0].min(),stock_day_change[0].max())\n",
    "print('概率密度函数(pdf,probability density function)')\n",
    "print('由均值，方差来描述曲线')\n",
    "print('使用scipy.stats.norm.pdf生成拟合曲线')\n",
    "pdf=scs.norm(stock_mean,stock_std).pdf(fit_linspace)\n",
    "print(pdf)\n",
    "plt.plot(fit_linspace,pdf,lw=2,c='r')\n"
   ]
  },
  {
   "cell_type": "code",
   "execution_count": 51,
   "metadata": {},
   "outputs": [
    {
     "name": "stdout",
     "output_type": "stream",
     "text": [
      "正态分布买入策略\n"
     ]
    }
   ],
   "source": [
    "print('正态分布买入策略')"
   ]
  },
  {
   "cell_type": "code",
   "execution_count": 52,
   "metadata": {},
   "outputs": [
    {
     "name": "stdout",
     "output_type": "stream",
     "text": [
      "[-67.3536 -58.4412 -51.8557]\n",
      "[ 21  38 108]\n"
     ]
    }
   ],
   "source": [
    "stock_cnt=200\n",
    "view_days=504\n",
    "stock_day_change=np.random.standard_normal((stock_cnt,view_days))\n",
    "#保留后50天的随机数据作为策略验证数据\n",
    "keep_days=50\n",
    "#统计前454天中的200只股票的涨跌数据\n",
    "stock_day_change_test=stock_day_change[:stock_cnt,:(view_days-keep_days)]\n",
    "#找出跌幅最大的3只股票\n",
    "print(np.sort(np.sum(stock_day_change_test,axis=1))[:3])\n",
    "#使用np.argsort()函数对股票跌幅进行排序，返回序号，即符合买入条件的股票序号\n",
    "stock_lower_array=np.argsort(np.sum(stock_day_change_test,axis=1))[:3]\n",
    "print(stock_lower_array)"
   ]
  },
  {
   "cell_type": "code",
   "execution_count": 53,
   "metadata": {
    "collapsed": true
   },
   "outputs": [],
   "source": [
    "#封装函数show_buy_lower()可视化选中的前3只跌幅最大股票前454日走势，以及从第454日买入后的走势\n",
    "def show_buy_lower(stock_ind):\n",
    "    \"\"\"\n",
    "    :param stock_ind:股票序号，即在stock_day_change中的位置\n",
    "    :return:\n",
    "    \n",
    "    stock_day_change_test包含的是200只股票，0-454个交易日的数据\n",
    "    \"\"\"\n",
    "    \n",
    "    #设置一个一行两列的可视化图表\n",
    "    _, axs =plt.subplots(nrows=1, ncols=2, figsize=(16,5))\n",
    "    #绘制前454天股票走势图，np.cumsum():序列连续求和\n",
    "    axs[0].plot(np.arange(0,view_days-keep_days),stock_day_change_test[stock_ind].cumsum())\n",
    "    \n",
    "    #从454天开始到504天股票走势图\n",
    "    cs_buy=stock_day_change[stock_ind][view_days-keep_days:view_days].cumsum()\n",
    "    \n",
    "    #绘制从454天到504天中股票走势图\n",
    "    axs[1].plot(np.arange(view_days-keep_days,view_days),cs_buy)\n",
    "    \n",
    "    #返回从第454天开始到第504天 计算盈亏的盈亏序列的最后一个值\n",
    "    return cs_buy[-1]"
   ]
  },
  {
   "cell_type": "code",
   "execution_count": 54,
   "metadata": {},
   "outputs": [
    {
     "name": "stdout",
     "output_type": "stream",
     "text": [
      "买入第[ 21  38 108]只股票，从第454个交易日开始持有盈亏-8.01\n"
     ]
    },
    {
     "data": {
      "image/png": "[encoded data removed]",
      "text/plain": [
       "<matplotlib.figure.Figure at 0x10213eb8>"
      ]
     },
     "metadata": {},
     "output_type": "display_data"
    },
    {
     "data": {
      "image/png": "[encoded data removed]",
      "text/plain": [
       "<matplotlib.figure.Figure at 0x1030b160>"
      ]
     },
     "metadata": {},
     "output_type": "display_data"
    },
    {
     "data": {
      "image/png": "[encoded data removed]",
      "text/plain": [
       "<matplotlib.figure.Figure at 0x103864a8>"
      ]
     },
     "metadata": {},
     "output_type": "display_data"
    }
   ],
   "source": [
    "#最后输出的盈亏比例\n",
    "profit=0\n",
    "#遍历跌幅最大的3只股票序号序列\n",
    "for stock_ind in stock_lower_array:\n",
    "    profit+=show_buy_lower(stock_ind)\n",
    "print('买入第{}只股票，从第454个交易日开始持有盈亏{:.2f}'.format(stock_lower_array,profit))"
   ]
  },
  {
   "cell_type": "markdown",
   "metadata": {},
   "source": [
    "#### 伯努利分布"
   ]
  },
  {
   "cell_type": "code",
   "execution_count": 55,
   "metadata": {},
   "outputs": [
    {
     "name": "stdout",
     "output_type": "stream",
     "text": [
      "a\n"
     ]
    }
   ],
   "source": [
    "print('a')"
   ]
  },
  {
   "cell_type": "code",
   "execution_count": 56,
   "metadata": {
    "collapsed": true
   },
   "outputs": [],
   "source": [
    "#设置100个赌徒\n",
    "gamblers=100\n",
    "def casino(win_rate,win_once=1,loss_once=1,commission=0.01):\n",
    "    \"\"\"\n",
    "    赌场：简单设定每个赌徒都有100,0000元，并且都想在赌场玩1000,0000次\n",
    "    如果没钱了就别想玩了\n",
    "    win_rate:输赢概率\n",
    "    win_once：每次赢的钱数\n",
    "    loss_once:每次输的钱数\n",
    "    commission:手续费1%\n",
    "    \"\"\"\n",
    "    my_money=1000000\n",
    "    play_cnt=10000000\n",
    "    commission=commission\n",
    "    \n",
    "    for _ in np.arange(0,play_cnt):\n",
    "        #使用伯努利分布，根据win_rate来获取输赢\n",
    "        w = np.random.binomial(1,win_rate)\n",
    "        \n",
    "        if w:\n",
    "            my_money += win_once\n",
    "        else:\n",
    "            my_money -=win_once\n",
    "            \n",
    "        #手续费\n",
    "        \n",
    "        my_money -= commission\n",
    "        \n",
    "        if my_money <=0:\n",
    "            break\n",
    "    \n",
    "    return my_money        "
   ]
  },
  {
   "cell_type": "code",
   "execution_count": 57,
   "metadata": {},
   "outputs": [
    {
     "name": "stdout",
     "output_type": "stream",
     "text": [
      "----\n"
     ]
    }
   ],
   "source": [
    "print('----')"
   ]
  },
  {
   "cell_type": "code",
   "execution_count": 58,
   "metadata": {
    "collapsed": true
   },
   "outputs": [],
   "source": [
    "#使用numba进行加速\n",
    "import numba as nb\n",
    "casino=nb.jit(casino)"
   ]
  },
  {
   "cell_type": "code",
   "execution_count": 59,
   "metadata": {
    "collapsed": true
   },
   "outputs": [],
   "source": [
    "#假设100个赌徒进场天堂赌场，胜率0.5 赔率1，无手续费\n",
    "heaven_moneys=[casino(0.5,commission=0)for _ in np.arange(0,gamblers)]"
   ]
  },
  {
   "cell_type": "code",
   "execution_count": 60,
   "metadata": {
    "collapsed": true
   },
   "outputs": [],
   "source": [
    "\n",
    "#假设没有抽头，有老千，导致胜率达到0.4\n",
    "\n",
    "cheat_moneys=[casino(0.4,commission=0)for _ in np.arange(0,gamblers)]\n"
   ]
  },
  {
   "cell_type": "code",
   "execution_count": 61,
   "metadata": {
    "collapsed": true
   },
   "outputs": [],
   "source": [
    "\n",
    "#有抽头，没有老千，手续费0.01\n",
    "\n",
    "commission_moneys=[casino(0.5,commission=0.01)for _ in np.arange(0,gamblers)]"
   ]
  },
  {
   "cell_type": "code",
   "execution_count": 62,
   "metadata": {},
   "outputs": [
    {
     "data": {
      "image/png": "[encoded data removed]",
      "text/plain": [
       "<matplotlib.figure.Figure at 0x108980b8>"
      ]
     },
     "metadata": {},
     "output_type": "display_data"
    }
   ],
   "source": [
    "_ = plt.hist(heaven_moneys, bins=30)"
   ]
  },
  {
   "cell_type": "code",
   "execution_count": null,
   "metadata": {
    "collapsed": true
   },
   "outputs": [],
   "source": []
  }
 ],
 "metadata": {
  "kernelspec": {
   "display_name": "Python 3",
   "language": "python",
   "name": "python3"
  },
  "language_info": {
   "codemirror_mode": {
    "name": "ipython",
    "version": 3
   },
   "file_extension": ".py",
   "mimetype": "text/x-python",
   "name": "python",
   "nbconvert_exporter": "python",
   "pygments_lexer": "ipython3",
   "version": "3.6.3"
  }
 },
 "nbformat": 4,
 "nbformat_minor": 2
}
