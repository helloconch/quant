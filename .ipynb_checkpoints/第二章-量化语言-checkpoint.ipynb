{
 "cells": [
  {
   "cell_type": "markdown",
   "metadata": {},
   "source": [
    "### 使用本地abu"
   ]
  },
  {
   "cell_type": "code",
   "execution_count": 1,
   "metadata": {},
   "outputs": [
    {
     "name": "stdout",
     "output_type": "stream",
     "text": [
      "abu path --> D:\\WORKSPACE-PYTHON\\abu\n"
     ]
    },
    {
     "name": "stderr",
     "output_type": "stream",
     "text": [
      "enable example env will only read RomDataBu/csv\n"
     ]
    }
   ],
   "source": [
    "from __future__ import print_function\n",
    "import os\n",
    "import sys\n",
    "abuPath=os.path.abspath('../abu')\n",
    "print('abu path --> %s' %abuPath)\n",
    "#insert 0 只使用github中的abupy,避免交叉使用pip安装的abupy\n",
    "sys.path.insert(0,abuPath)\n",
    "import abupy\n",
    "from abupy import six,xrange,range,reduce,map,filter,partial\n",
    "#使用沙盒数据确保和书中一样的数据环境\n",
    "abupy.env.enable_example_env_ipython()"
   ]
  },
  {
   "cell_type": "code",
   "execution_count": 2,
   "metadata": {},
   "outputs": [
    {
     "name": "stdout",
     "output_type": "stream",
     "text": [
      "3.6.3 |Anaconda, Inc.| (default, Oct 15 2017, 03:27:45) [MSC v.1900 64 bit (AMD64)]\n"
     ]
    }
   ],
   "source": [
    "print(sys.version)"
   ]
  },
  {
   "cell_type": "code",
   "execution_count": 3,
   "metadata": {},
   "outputs": [
    {
     "data": {
      "text/plain": [
       "str"
      ]
     },
     "execution_count": 3,
     "metadata": {},
     "output_type": "execute_result"
    }
   ],
   "source": [
    "#使用type()来显示对象的类型\n",
    "price_str='30.14, 29.58, 26.36, 32.56, 32.82'\n",
    "type(price_str)"
   ]
  },
  {
   "cell_type": "code",
   "execution_count": 4,
   "metadata": {},
   "outputs": [
    {
     "name": "stdout",
     "output_type": "stream",
     "text": [
      "price_str is str\n"
     ]
    }
   ],
   "source": [
    "if not isinstance(price_str,str):\n",
    "    price_str=str(price_str)\n",
    "elif isinstance(price_str,float):\n",
    "    price_str=1.0\n",
    "else:\n",
    "    print('price_str is str')"
   ]
  },
  {
   "cell_type": "markdown",
   "metadata": {},
   "source": [
    "#### 字符串和容器"
   ]
  },
  {
   "cell_type": "code",
   "execution_count": 5,
   "metadata": {},
   "outputs": [
    {
     "name": "stdout",
     "output_type": "stream",
     "text": [
      "原始price_str id=236941136\n",
      "新的price_str id=237014512\n"
     ]
    }
   ],
   "source": [
    "print('原始price_str id={}'.format(id(price_str)))\n",
    "price_str=price_str.replace(' ','')\n",
    "print('新的price_str id={}'.format(id(price_str)))"
   ]
  },
  {
   "cell_type": "code",
   "execution_count": 6,
   "metadata": {},
   "outputs": [
    {
     "name": "stdout",
     "output_type": "stream",
     "text": [
      "['30.14', '29.58', '26.36', '32.56', '32.82']\n",
      "['30.14', '29.58', '26.36', '32.56', '32.82', '32.82']\n"
     ]
    }
   ],
   "source": [
    "#数组\n",
    "price_array=price_str.split(',')\n",
    "print(price_array)\n",
    "#尾部append一个重复的32.82\n",
    "price_array.append('32.82')\n",
    "print(price_array)"
   ]
  },
  {
   "cell_type": "code",
   "execution_count": 7,
   "metadata": {},
   "outputs": [
    {
     "name": "stdout",
     "output_type": "stream",
     "text": [
      "['30.14', '29.58', '26.36', '32.56', '32.82', '32.82']\n",
      "['30.14', '29.58', '26.36', '32.56', '32.82']\n"
     ]
    }
   ],
   "source": [
    "print(price_array)\n",
    "#remove()函数只移除第一次出现的数据\n",
    "price_array.remove('32.82')\n",
    "print(price_array)"
   ]
  },
  {
   "cell_type": "code",
   "execution_count": 8,
   "metadata": {},
   "outputs": [
    {
     "name": "stdout",
     "output_type": "stream",
     "text": [
      "{'32.82', '29.58', '26.36', '32.56', '30.14'}\n",
      "['30.14', '29.58', '26.36', '32.56', '32.82']\n"
     ]
    }
   ],
   "source": [
    "#集合是一个无序容器，且集合中元素不重复，使用set()函数转化为集合\n",
    "print(set(price_array))\n",
    "print(price_array)"
   ]
  },
  {
   "cell_type": "code",
   "execution_count": 9,
   "metadata": {},
   "outputs": [
    {
     "name": "stdout",
     "output_type": "stream",
     "text": [
      "['20170118', '20170119', '20170120', '20170121', '20170122']\n"
     ]
    }
   ],
   "source": [
    "#循环\n",
    "date_array=[]\n",
    "date_base=20170118\n",
    "#用for进行计数，无用变量python使用'_'声明\n",
    "for _ in xrange(0,len(price_array)):\n",
    "    date_array.append(str(date_base))\n",
    "    date_base+=1\n",
    "print(date_array)"
   ]
  },
  {
   "cell_type": "code",
   "execution_count": 10,
   "metadata": {},
   "outputs": [
    {
     "data": {
      "text/plain": [
       "['20170118', '20170119', '20170120', '20170121', '20170122']"
      ]
     },
     "execution_count": 10,
     "metadata": {},
     "output_type": "execute_result"
    }
   ],
   "source": [
    "#列表推导式\n",
    "date_base=20170118\n",
    "date_array=[str(date_base + ind) for ind , _ in enumerate(price_array)]\n",
    "date_array"
   ]
  },
  {
   "cell_type": "code",
   "execution_count": 11,
   "metadata": {},
   "outputs": [
    {
     "name": "stdout",
     "output_type": "stream",
     "text": [
      "20170119日价格29.58\n"
     ]
    },
    {
     "data": {
      "text/plain": [
       "[('20170118', '30.14'),\n",
       " ('20170119', '29.58'),\n",
       " ('20170120', '26.36'),\n",
       " ('20170121', '32.56'),\n",
       " ('20170122', '32.82')]"
      ]
     },
     "execution_count": 11,
     "metadata": {},
     "output_type": "execute_result"
    }
   ],
   "source": [
    "#使用tuple元祖封装交易日期和收盘价格\n",
    "stock_tuple_list=[(date,price) for date,price in zip(date_array,price_array)]\n",
    "print('20170119日价格%s'%(stock_tuple_list[1][1]))\n",
    "stock_tuple_list\n"
   ]
  },
  {
   "cell_type": "code",
   "execution_count": 12,
   "metadata": {},
   "outputs": [
    {
     "name": "stdout",
     "output_type": "stream",
     "text": [
      "20170119日价格29.58\n"
     ]
    },
    {
     "data": {
      "text/plain": [
       "[stock(date='20170118', price='30.14'),\n",
       " stock(date='20170119', price='29.58'),\n",
       " stock(date='20170120', price='26.36'),\n",
       " stock(date='20170121', price='32.56'),\n",
       " stock(date='20170122', price='32.82')]"
      ]
     },
     "execution_count": 12,
     "metadata": {},
     "output_type": "execute_result"
    }
   ],
   "source": [
    "#通过可命名元祖namedtuple提高访问灵活性\n",
    "from collections import namedtuple\n",
    "stock_namedtuple=namedtuple('stock',('date','price'))\n",
    "stock_namedtuple_list=[stock_namedtuple(date,price) for date,price in zip(date_array,price_array)]\n",
    "print('20170119日价格%s'%(stock_namedtuple_list[1].price))\n",
    "stock_namedtuple_list"
   ]
  },
  {
   "cell_type": "code",
   "execution_count": 13,
   "metadata": {},
   "outputs": [
    {
     "name": "stdout",
     "output_type": "stream",
     "text": [
      "20170119日价格29.58\n"
     ]
    },
    {
     "data": {
      "text/plain": [
       "{'20170118': '30.14',\n",
       " '20170119': '29.58',\n",
       " '20170120': '26.36',\n",
       " '20170121': '32.56',\n",
       " '20170122': '32.82'}"
      ]
     },
     "execution_count": 13,
     "metadata": {},
     "output_type": "execute_result"
    }
   ],
   "source": [
    "#字典推导式 {key:value for key,value in }\n",
    "\n",
    "stock_dict={date:price for date,price in zip(date_array,price_array)}\n",
    "\n",
    "print('20170119日价格%s' %(stock_dict['20170119']))\n",
    "stock_dict\n"
   ]
  },
  {
   "cell_type": "code",
   "execution_count": 14,
   "metadata": {},
   "outputs": [
    {
     "name": "stdout",
     "output_type": "stream",
     "text": [
      "字典中keys->dict_keys(['20170118', '20170119', '20170120', '20170121', '20170122'])\n",
      "字典中keys->dict_values(['30.14', '29.58', '26.36', '32.56', '32.82'])\n"
     ]
    }
   ],
   "source": [
    "print('字典中keys->%s'%(stock_dict.keys()))\n",
    "print('字典中keys->%s'%(stock_dict.values()))"
   ]
  },
  {
   "cell_type": "code",
   "execution_count": 15,
   "metadata": {},
   "outputs": [
    {
     "name": "stdout",
     "output_type": "stream",
     "text": [
      "有序字典 OrderedDict([('20170118', '30.14'), ('20170119', '29.58'), ('20170120', '26.36'), ('20170121', '32.56'), ('20170122', '32.82')])\n"
     ]
    }
   ],
   "source": [
    "#字典存储无序，OrderedDict确保有序\n",
    "from collections import OrderedDict\n",
    "stock_dict=OrderedDict((date,price)for date,price in zip(date_array,price_array))\n",
    "\n",
    "print('有序字典 %s' %(stock_dict))\n"
   ]
  },
  {
   "cell_type": "markdown",
   "metadata": {},
   "source": [
    "### 函数"
   ]
  },
  {
   "cell_type": "code",
   "execution_count": 16,
   "metadata": {},
   "outputs": [
    {
     "data": {
      "text/plain": [
       "('26.36', '20170120')"
      ]
     },
     "execution_count": 16,
     "metadata": {},
     "output_type": "execute_result"
    }
   ],
   "source": [
    "#从字典中查找最小的收盘价格以及对应日期\n",
    "min(zip(stock_dict.values(),stock_dict.keys()))"
   ]
  },
  {
   "cell_type": "code",
   "execution_count": 17,
   "metadata": {},
   "outputs": [
    {
     "name": "stdout",
     "output_type": "stream",
     "text": [
      "('32.56', '20170121')\n"
     ]
    }
   ],
   "source": [
    "#通过函数方式查找第二大的收盘价格\n",
    "def find_second_max(dict_array):\n",
    "    #进行升序排序\n",
    "    stock_prices_sorted=sorted(zip(dict_array.values(),dict_array.keys()))\n",
    "    #倒数第二个即为第二大收盘价格\n",
    "    return stock_prices_sorted[-2]\n",
    "#callable()验证是否为一个可调用的函数\n",
    "if callable(find_second_max):\n",
    "    print(find_second_max(stock_dict))"
   ]
  },
  {
   "cell_type": "code",
   "execution_count": 18,
   "metadata": {},
   "outputs": [
    {
     "data": {
      "text/plain": [
       "('32.56', '20170121')"
      ]
     },
     "execution_count": 18,
     "metadata": {},
     "output_type": "execute_result"
    }
   ],
   "source": [
    "#使用lambda匿名函数轻量级完成任务\n",
    "find_second_max_lambda=lambda dict_array:sorted(zip(dict_array.values(),dict_array.keys()))[-2]\n",
    "find_second_max_lambda(stock_dict)"
   ]
  },
  {
   "cell_type": "code",
   "execution_count": 19,
   "metadata": {},
   "outputs": [
    {
     "data": {
      "text/plain": [
       "(('26.36', '20170120'), ('29.58', '20170119'))"
      ]
     },
     "execution_count": 19,
     "metadata": {},
     "output_type": "execute_result"
    }
   ],
   "source": [
    "#返回多个返回值，实际为tuple队列\n",
    "def find_second_max_2(dict_array):\n",
    "    #进行升序排序\n",
    "    stock_prices_sorted=sorted(zip(dict_array.values(),dict_array.keys()))\n",
    "    #倒数第二个即为第二大收盘价格\n",
    "    return stock_prices_sorted[0],stock_prices_sorted[1]\n",
    "\n",
    "find_second_max_2(stock_dict)"
   ]
  },
  {
   "cell_type": "markdown",
   "metadata": {},
   "source": [
    "#### 高阶函数"
   ]
  },
  {
   "cell_type": "code",
   "execution_count": 20,
   "metadata": {},
   "outputs": [
    {
     "data": {
      "text/plain": [
       "[(30.14, 29.58), (29.58, 26.36), (26.36, 32.56), (32.56, 32.82)]"
      ]
     },
     "execution_count": 20,
     "metadata": {},
     "output_type": "execute_result"
    }
   ],
   "source": [
    "#从收盘价格，推导出每天涨跌幅度\n",
    "#获取有序日期收盘价格\n",
    "price_float_array=[float(price_str) for price_str in stock_dict.values()]\n",
    "\n",
    "#通过时间平移形成两个错开的收盘价序列，通过zip打包成一个新序列\n",
    "#[:-1]从0到倒数第二个\n",
    "#[1:]从1到最后一个\n",
    "pp_array=[(price1,price2)for price1,price2 in zip(price_float_array[:-1],price_float_array[1:])]\n",
    "pp_array\n"
   ]
  },
  {
   "cell_type": "code",
   "execution_count": 21,
   "metadata": {},
   "outputs": [
    {
     "data": {
      "text/plain": [
       "[0, -0.019, -0.109, 0.235, 0.008]"
      ]
     },
     "execution_count": 21,
     "metadata": {},
     "output_type": "execute_result"
    }
   ],
   "source": [
    "#使用高阶函数\n",
    "calc_round=lambda a,b:round((b-a)/a,3)\n",
    "calc_reduce=lambda pp:reduce(calc_round,pp)\n",
    "calc_result=map(calc_reduce,pp_array)\n",
    "change_array=list(calc_result)\n",
    "#将第一天的涨幅设置为0\n",
    "change_array.insert(0,0)\n",
    "change_array"
   ]
  },
  {
   "cell_type": "code",
   "execution_count": 22,
   "metadata": {},
   "outputs": [
    {
     "data": {
      "text/plain": [
       "OrderedDict([('20170118', stock(date='20170118', price='30.14', change=0)),\n",
       "             ('20170119',\n",
       "              stock(date='20170119', price='29.58', change=-0.019)),\n",
       "             ('20170120',\n",
       "              stock(date='20170120', price='26.36', change=-0.109)),\n",
       "             ('20170121', stock(date='20170121', price='32.56', change=0.235)),\n",
       "             ('20170122',\n",
       "              stock(date='20170122', price='32.82', change=0.008))])"
      ]
     },
     "execution_count": 22,
     "metadata": {},
     "output_type": "execute_result"
    }
   ],
   "source": [
    "#使用namedtuple重新构建数据结构\n",
    "from collections import namedtuple\n",
    "from collections import OrderedDict\n",
    "stock_namedtuple=namedtuple('stock',('date','price','change'))\n",
    "stock_dict=OrderedDict((date,stock_namedtuple(date,price,change)) for date,price,change in zip(date_array,price_array,change_array))\n",
    "stock_dict"
   ]
  },
  {
   "cell_type": "code",
   "execution_count": 23,
   "metadata": {},
   "outputs": [
    {
     "data": {
      "text/plain": [
       "[stock(date='20170121', price='32.56', change=0.235),\n",
       " stock(date='20170122', price='32.82', change=0.008)]"
      ]
     },
     "execution_count": 23,
     "metadata": {},
     "output_type": "execute_result"
    }
   ],
   "source": [
    "#使用高阶函数筛选上涨的日期\n",
    "up_days=list(filter(lambda stock:stock.change> 0,stock_dict.values()))\n",
    "up_days"
   ]
  },
  {
   "cell_type": "code",
   "execution_count": 24,
   "metadata": {},
   "outputs": [
    {
     "name": "stdout",
     "output_type": "stream",
     "text": [
      "所有上涨的交易日 -> [stock(date='20170121', price='32.56', change=0.235), stock(date='20170122', price='32.82', change=0.008)]\n",
      "所有上涨的交易日 -> [stock(date='20170119', price='29.58', change=-0.019), stock(date='20170120', price='26.36', change=-0.109)]\n",
      "所有下跌的交易日跌幅和 -> -0.128\n"
     ]
    }
   ],
   "source": [
    "#编写一个函数，展示不同需求\n",
    "from collections import OrderedDict\n",
    "def fiter_stock(stock_array_dict,want_up=True,want_calc_sum=False):\n",
    "    if not isinstance(stock_array_dict,OrderedDict):\n",
    "        raise TypeError('stock_array_dict must be OrderedDict')\n",
    "    #三目表达式\n",
    "    filter_func=(lambda day:day.change>0) if want_up else (lambda day:day.change<0)\n",
    "    #使用filter_func作为筛选函数\n",
    "    want_days=list(filter(filter_func,stock_array_dict.values()))\n",
    "    \n",
    "    if not want_calc_sum:\n",
    "        return want_days\n",
    "    \n",
    "    #计算涨跌幅\n",
    "    change_sum=0.0\n",
    "    for day in want_days:\n",
    "        change_sum += day.change\n",
    "    \n",
    "    return change_sum\n",
    "    \n",
    "#所有上涨的交易日\n",
    "print('所有上涨的交易日 -> %s' %(fiter_stock(stock_dict)))\n",
    "#所有下跌的交易日\n",
    "print('所有上涨的交易日 -> %s' %(fiter_stock(stock_dict,want_up=False)))   \n",
    "#所有下跌的总和\n",
    "print('所有下跌的交易日跌幅和 -> %s' %(fiter_stock(stock_dict,want_up=False,want_calc_sum=True)))   "
   ]
  },
  {
   "cell_type": "code",
   "execution_count": 25,
   "metadata": {},
   "outputs": [
    {
     "name": "stdout",
     "output_type": "stream",
     "text": [
      "筛选上涨交易日 -> [stock(date='20170121', price='32.56', change=0.235), stock(date='20170122', price='32.82', change=0.008)]\n",
      "筛选下跌交易日跌幅总和 -> -0.128\n"
     ]
    }
   ],
   "source": [
    "#偏函数-使用functools.partial()函数创建一个新的函数，调用更简单，函数功能更明确\n",
    "from functools import partial\n",
    "\n",
    "#筛选上涨交易日\n",
    "filter_stock_up_days=partial(fiter_stock,want_up=True,want_calc_sum=False)\n",
    "#筛选下跌交易日跌幅总和\n",
    "filter_stock_down_sums=partial(fiter_stock,want_up=False,want_calc_sum=True)\n",
    "\n",
    "print('筛选上涨交易日 -> %s' %(filter_stock_up_days(stock_dict)))\n",
    "print('筛选下跌交易日跌幅总和 -> %s' %(filter_stock_down_sums(stock_dict)))"
   ]
  },
  {
   "cell_type": "markdown",
   "metadata": {},
   "source": [
    "### 面向对象"
   ]
  },
  {
   "cell_type": "code",
   "execution_count": 26,
   "metadata": {
    "collapsed": true
   },
   "outputs": [],
   "source": [
    "#类的封装\n",
    "#任何以单下划线开头的名字代表protect 如self._price_array\n",
    "#任何以双下划线开头名字代表private 如self.__init_change(self)\n",
    "#双下划线开头结尾的名字都代表系统保留定义如 __init__(self)"
   ]
  },
  {
   "cell_type": "code",
   "execution_count": 27,
   "metadata": {
    "collapsed": true
   },
   "outputs": [],
   "source": [
    "from collections import namedtuple\n",
    "from collections import OrderedDict\n",
    "\n",
    "class StockTradeDays(object):\n",
    "    def __init__(self,price_array,start_date,date_array=None):\n",
    "        #私有价格序列\n",
    "        self.__price_array=price_array\n",
    "        #私有日期序列\n",
    "        self.__date_array=self._init_days(start_date,date_array)\n",
    "        #私有涨跌幅序列\n",
    "        self.__change_array=self.__init_change()\n",
    "        #\n",
    "        self.stock_dict=self._init_stock_dict()\n",
    "    \n",
    "    def __init_change(self):\n",
    "        price_float_array=[float(price) for price in self.__price_array ]\n",
    "        pp_array=[(price1,price2) for price1,price2 in zip(price_float_array[:-1],price_float_array[1:])]\n",
    "        change_array=list(map(lambda pp:reduce(lambda a,b:round((b-a)/a,3),pp),pp_array))\n",
    "        change_array.insert(0,0)\n",
    "        return change_array\n",
    "    \n",
    "    def _init_days(self,start_date,date_array):\n",
    "        \"\"\"\n",
    "        protect方法\n",
    "        :param start_date:初始日期\n",
    "        :param date_array:给定日期序列\n",
    "        \"\"\"\n",
    "        if date_array is None:\n",
    "            date_array=[str(start_date+ind)for ind,_ in enumerate(self.__price_array)]\n",
    "        else:\n",
    "            date_array=[str(date)for date in date_array]\n",
    "        \n",
    "        return date_array\n",
    "    \n",
    "    def _init_stock_dict(self):\n",
    "        stock_namedtuple=namedtuple('stock',('date','price','change'))\n",
    "        \n",
    "        stock_dict=OrderedDict((date,stock_namedtuple(date,price,change)) for date,price,change in zip(self.__date_array,self.__price_array,self.__change_array))\n",
    "        return stock_dict\n",
    "    \n",
    "    \n",
    "    def fiter_stock(self,want_up=True,want_calc_sum=False):\n",
    "        \n",
    "        #三目表达式\n",
    "        filter_func=(lambda day:day.change>0) if want_up else (lambda day:day.change<0)\n",
    "        #使用filter_func作为筛选函数\n",
    "        want_days=list(filter(filter_func,self.stock_dict.values()))\n",
    "        if not want_calc_sum:\n",
    "            return want_days\n",
    "        #计算涨跌幅\n",
    "        change_sum=0.0\n",
    "        for day in want_days:\n",
    "            change_sum += day.change\n",
    "        return change_sum\n",
    "    def __str__(self):\n",
    "        print('str method ->')\n",
    "        return str(self.stock_dict)\n",
    "    \n",
    "    __repr__=__str__\n",
    "    \n",
    "    def __iter__(self):\n",
    "        \"\"\"\n",
    "        通过代理stock_dict的迭代,yield元素\n",
    "        \"\"\"\n",
    "        for key in self.stock_dict:\n",
    "            yield self.stock_dict[key]\n",
    "            \n",
    "    def __getitem__(self,ind):\n",
    "        date_key=self.__date_array[ind]\n",
    "        return self.stock_dict[date_key]\n",
    "    \n",
    "    def __len__(self):\n",
    "        return len(self.stock_dict)"
   ]
  },
  {
   "cell_type": "code",
   "execution_count": 28,
   "metadata": {},
   "outputs": [
    {
     "name": "stdout",
     "output_type": "stream",
     "text": [
      "str method ->\n"
     ]
    },
    {
     "data": {
      "text/plain": [
       "OrderedDict([('20170118', stock(date='20170118', price='30.14', change=0)), ('20170119', stock(date='20170119', price='29.58', change=-0.019)), ('20170120', stock(date='20170120', price='26.36', change=-0.109)), ('20170121', stock(date='20170121', price='32.56', change=0.235)), ('20170122', stock(date='20170122', price='32.82', change=0.008))])"
      ]
     },
     "execution_count": 28,
     "metadata": {},
     "output_type": "execute_result"
    }
   ],
   "source": [
    "price_array = '30.14,29.58,26.36,32.56,32.82'.split(',')\n",
    "date_base = 20170118\n",
    "\n",
    "trades_days=StockTradeDays(price_array,date_base)\n",
    "\n",
    "trades_days\n"
   ]
  },
  {
   "cell_type": "code",
   "execution_count": 29,
   "metadata": {},
   "outputs": [
    {
     "name": "stdout",
     "output_type": "stream",
     "text": [
      "trades_days 长度 -> 5\n"
     ]
    }
   ],
   "source": [
    "print('trades_days 长度 -> %s' %(len(trades_days)))"
   ]
  },
  {
   "cell_type": "code",
   "execution_count": 30,
   "metadata": {},
   "outputs": [
    {
     "name": "stdout",
     "output_type": "stream",
     "text": [
      "stock(date='20170118', price='30.14', change=0)\n",
      "stock(date='20170119', price='29.58', change=-0.019)\n",
      "stock(date='20170120', price='26.36', change=-0.109)\n",
      "stock(date='20170121', price='32.56', change=0.235)\n",
      "stock(date='20170122', price='32.82', change=0.008)\n"
     ]
    }
   ],
   "source": [
    "#对象支持迭代\n",
    "from collections import Iterable\n",
    "if isinstance(trades_days,Iterable):\n",
    "    for day in trades_days:\n",
    "        print(day)"
   ]
  },
  {
   "cell_type": "code",
   "execution_count": 31,
   "metadata": {},
   "outputs": [
    {
     "data": {
      "text/plain": [
       "[stock(date='20170121', price='32.56', change=0.235),\n",
       " stock(date='20170122', price='32.82', change=0.008)]"
      ]
     },
     "execution_count": 31,
     "metadata": {},
     "output_type": "execute_result"
    }
   ],
   "source": [
    "trades_days.fiter_stock()"
   ]
  },
  {
   "cell_type": "code",
   "execution_count": 32,
   "metadata": {
    "collapsed": true
   },
   "outputs": [],
   "source": [
    "#使用真实数据\n",
    "from abupy import ABuSymbolPd\n",
    "stockName='TSLA'\n",
    "#两年的TSLA收盘数据 to list()\n",
    "price_array=ABuSymbolPd.make_kl_df(stockName, n_folds=2).close.tolist()\n",
    "#两年的TSLA收盘日期to list()\n",
    "date_array=ABuSymbolPd.make_kl_df(stockName,n_folds=2).date.tolist()"
   ]
  },
  {
   "cell_type": "code",
   "execution_count": 33,
   "metadata": {},
   "outputs": [
    {
     "name": "stdout",
     "output_type": "stream",
     "text": [
      "TSLA收盘价前5  -> [222.49, 223.54, 223.57, 224.82, 225.01]\n",
      "TSLA收盘日期前5 -> [20140723, 20140724, 20140725, 20140728, 20140729]\n"
     ]
    }
   ],
   "source": [
    "print('TSLA收盘价前5  -> %s' %(price_array[:5]))\n",
    "print('TSLA收盘日期前5 -> %s' %(date_array[:5]))"
   ]
  },
  {
   "cell_type": "code",
   "execution_count": 34,
   "metadata": {},
   "outputs": [
    {
     "name": "stdout",
     "output_type": "stream",
     "text": [
      "trade_days对象长度 504\n"
     ]
    }
   ],
   "source": [
    "trade_days=StockTradeDays(price_array,date_base,date_array)\n",
    "print('trade_days对象长度 %s' %(len(trade_days)))"
   ]
  },
  {
   "cell_type": "code",
   "execution_count": 35,
   "metadata": {},
   "outputs": [
    {
     "name": "stdout",
     "output_type": "stream",
     "text": [
      "最后一天的交易数据为:stock(date='20160726', price=225.93, change=-0.018)\n"
     ]
    }
   ],
   "source": [
    "print('最后一天的交易数据为:{}'.format(trade_days[-1]))"
   ]
  },
  {
   "cell_type": "markdown",
   "metadata": {},
   "source": [
    "### 继承和多态"
   ]
  },
  {
   "cell_type": "code",
   "execution_count": 36,
   "metadata": {
    "collapsed": true
   },
   "outputs": [],
   "source": [
    "#编写量化交易基类\n",
    "import six\n",
    "from abc import ABCMeta,abstractmethod\n",
    "class TradeStrategyBase(six.with_metaclass(ABCMeta,object)):\n",
    "    \"\"\"\n",
    "    交易策略抽象基类\n",
    "    \"\"\"\n",
    "    @abstractmethod\n",
    "    def buy_strategy(self,*args,**kwargs):\n",
    "        pass\n",
    "    @abstractmethod\n",
    "    def sell_strategy(self,*args,**kwargs):\n",
    "        pass\n"
   ]
  },
  {
   "cell_type": "code",
   "execution_count": 37,
   "metadata": {
    "collapsed": true
   },
   "outputs": [],
   "source": [
    "#当股价上涨一个阀值(默认7%)时买入股票并持有s_keep_stock_threshold\n",
    "\n",
    "class TradeStrategy1(TradeStrategyBase):\n",
    "    \"\"\"\n",
    "    追涨策略，当股价上涨一个阀值默认7%时\n",
    "    买入并持有s_keep_stock_threshold（20）\n",
    "    \"\"\"\n",
    "    s_keep_stock_threshold=20\n",
    "    def __init__(self):\n",
    "        self.keep_stock_day=0\n",
    "        self.__buy_change_threshold=0.07\n",
    "    \n",
    "    def buy_strategy(self,trade_ind,trade_day,trade_days):\n",
    "        \n",
    "        if self.keep_stock_day==0 and trade_day.change>self.__buy_change_threshold:\n",
    "            self.keep_stock_day +=1\n",
    "        elif self.keep_stock_day>0:\n",
    "            self.keep_stock_day +=1\n",
    "    \n",
    "    def sell_strategy(self,trade_ind,trade_day,trade_days):\n",
    "        if self.keep_stock_day >=TradeStrategy1.s_keep_stock_threshold:\n",
    "            self.keep_stock_day=0\n",
    "    \n",
    "    \n",
    "    @property\n",
    "    def buy_change_threshold(self):\n",
    "        return self.__buy_change_threshold\n",
    "    \n",
    "    @buy_change_threshold.setter\n",
    "    def buy_change_threshold(self,buy_change_threshold):\n",
    "        if not isinstance(buy_change_threshold,float):\n",
    "            raise TypeError('buy_change_threshold must be float')\n",
    "        \n",
    "        self.__buy_change_threshold=round(buy_change_threshold,2)\n",
    "        "
   ]
  },
  {
   "cell_type": "code",
   "execution_count": 57,
   "metadata": {},
   "outputs": [
    {
     "name": "stdout",
     "output_type": "stream",
     "text": [
      "回测策略1总盈亏:37.60000000000001%\n"
     ]
    }
   ],
   "source": [
    "#实现一个交易回测系统\n",
    "class TradeLoopBack(object):\n",
    "    \"\"\"\n",
    "    交易回测系统\n",
    "    \"\"\"\n",
    "    def __init__(self,trade_days,trade_strategy):\n",
    "        \n",
    "        self.trade_days=trade_days\n",
    "        self.trade_strategy=trade_strategy\n",
    "        self.profit_array=[]\n",
    "        \n",
    "    def execute_trade(self):\n",
    "        \n",
    "        for ind ,day in enumerate(self.trade_days):\n",
    "            \n",
    "            if self.trade_strategy.keep_stock_day>0:\n",
    "                self.profit_array.append(day.change)\n",
    "            \n",
    "            if hasattr(self.trade_strategy,'buy_strategy'):\n",
    "                self.trade_strategy.buy_strategy(ind,day,self.trade_days)\n",
    "                \n",
    "            if hasattr(self.trade_strategy,'sell_strategy'):\n",
    "                self.trade_strategy.sell_strategy(ind,day,self.trade_days)\n",
    "\n",
    "trade_loop_back=TradeLoopBack(trade_days,TradeStrategy1())\n",
    "\n",
    "trade_loop_back.execute_trade()\n",
    "print('回测策略1总盈亏:{}%'.format(reduce(lambda a,b:a+b,trade_loop_back.profit_array)*100))\n",
    "\n",
    "            "
   ]
  },
  {
   "cell_type": "code",
   "execution_count": 58,
   "metadata": {
    "scrolled": true
   },
   "outputs": [
    {
     "data": {
      "image/png": "[encoded data removed]",
      "text/plain": [
       "<matplotlib.figure.Figure at 0xe499048>"
      ]
     },
     "metadata": {},
     "output_type": "display_data"
    }
   ],
   "source": [
    "#通过可视化查看策略盈亏\n",
    "import seaborn as sns\n",
    "import numpy as np\n",
    "import matplotlib.pyplot as plt\n",
    "%matplotlib inline\n",
    "#plt.rcParams[\"figure.figsize\"] = [14,7]\n",
    "#sns.set_context(rc={'figure.figsize': (14, 7)} )\n",
    "plt.plot(np.array(trade_loop_back.profit_array).cumsum());"
   ]
  },
  {
   "cell_type": "code",
   "execution_count": 59,
   "metadata": {},
   "outputs": [
    {
     "name": "stdout",
     "output_type": "stream",
     "text": [
      "回测策略1总盈亏为0.8000000000000004%\n"
     ]
    },
    {
     "data": {
      "text/plain": [
       "[<matplotlib.lines.Line2D at 0xff8a978>]"
      ]
     },
     "execution_count": 59,
     "metadata": {},
     "output_type": "execute_result"
    },
    {
     "data": {
      "image/png": "[encoded data removed]",
      "text/plain": [
       "<matplotlib.figure.Figure at 0xe3efb70>"
      ]
     },
     "metadata": {},
     "output_type": "display_data"
    }
   ],
   "source": [
    "#静态方法 类方法 属性\n",
    "#将阀值7% 升到10%\n",
    "\n",
    "trade_strategy1=TradeStrategy1()\n",
    "trade_strategy1.buy_change_threshold=0.1\n",
    "\n",
    "trade_loop_back=TradeLoopBack(trade_days,trade_strategy1)\n",
    "\n",
    "trade_loop_back.execute_trade()\n",
    "\n",
    "print('回测策略1总盈亏为{}%'.format(reduce(lambda a,b:a+b,trade_loop_back.profit_array)*100))\n",
    "plt.plot(np.array(trade_loop_back.profit_array).cumsum())\n"
   ]
  },
  {
   "cell_type": "code",
   "execution_count": 60,
   "metadata": {},
   "outputs": [
    {
     "name": "stdout",
     "output_type": "stream",
     "text": [
      "策略2总盈亏20.500000000000004%\n"
     ]
    },
    {
     "data": {
      "text/plain": [
       "[<matplotlib.lines.Line2D at 0xfbcf898>]"
      ]
     },
     "execution_count": 60,
     "metadata": {},
     "output_type": "execute_result"
    },
    {
     "data": {
      "image/png": "[encoded data removed]",
      "text/plain": [
       "<matplotlib.figure.Figure at 0xe49f898>"
      ]
     },
     "metadata": {},
     "output_type": "display_data"
    }
   ],
   "source": [
    "#编写新的均值回复交易策略，当股价连续两个交易日下跌，且下跌幅度超过阀值(默认-10%)买入股票并持有s_keep_stock_threshold\n",
    "\n",
    "class TradeStrategy2(TradeStrategyBase):\n",
    "    s_keep_stock_threshold=10\n",
    "    s_buy_change_threshold=-0.1\n",
    "    \n",
    "    def __init__(self):\n",
    "        self.keep_stock_day=0\n",
    "    \n",
    "    def buy_strategy(self,trade_ind,trade_day,trade_days):\n",
    "        if trade_ind>=1 and self.keep_stock_day == 0:\n",
    "            todayData=trade_day\n",
    "            yesterData=trade_days[trade_ind-1]\n",
    "            downTodayData=trade_day.change < 0\n",
    "            downYesterData=yesterData.change < 0\n",
    "            downRate= trade_day.change + yesterData.change\n",
    "            if(downTodayData and downYesterData and downRate < self.s_buy_change_threshold):\n",
    "                self.keep_stock_day+=1\n",
    "        else:\n",
    "            self.keep_stock_day+=1\n",
    "            \n",
    "    def sell_strategy(self,trade_ind,trade_day,trade_days):\n",
    "        if self.keep_stock_day>=TradeStrategy2.s_keep_stock_threshold:\n",
    "            self.keep_stock_day=0\n",
    "    \n",
    "    @classmethod\n",
    "    def set_keep_stock_threshold(cls,keep_stock_threshold):\n",
    "        cls.s_keep_stock_threshold=keep_stock_threshold\n",
    "    \n",
    "    @staticmethod\n",
    "    def set_buy_change_threshold(buy_change_threshold):\n",
    "        TradeStrategy2.s_buy_change_threshold=buy_change_threshold\n",
    "\n",
    "\n",
    "trade_strategy2=TradeStrategy2()\n",
    "trade_loop_back=TradeLoopBack(trade_days,trade_strategy2)\n",
    "trade_loop_back.execute_trade()\n",
    "\n",
    "\n",
    "print('策略2总盈亏{}%'.format(reduce(lambda a,b:a+b,trade_loop_back.profit_array)*100))\n",
    "plt.plot(np.array(trade_loop_back.profit_array).cumsum())"
   ]
  },
  {
   "cell_type": "code",
   "execution_count": 73,
   "metadata": {},
   "outputs": [
    {
     "name": "stdout",
     "output_type": "stream",
     "text": [
      "通过类方法和静态方法修改策略2总盈亏46.60000000000001%\n"
     ]
    },
    {
     "data": {
      "text/plain": [
       "[<matplotlib.lines.Line2D at 0x104e8780>]"
      ]
     },
     "execution_count": 73,
     "metadata": {},
     "output_type": "execute_result"
    },
    {
     "data": {
      "image/png": "[encoded data removed]",
      "text/plain": [
       "<matplotlib.figure.Figure at 0x104c0b00>"
      ]
     },
     "metadata": {},
     "output_type": "display_data"
    }
   ],
   "source": [
    "#通过类方法和静态方法修改策略基础参数，改变交易行为\n",
    "\n",
    "trade_strategy2=TradeStrategy2()\n",
    "#修改买入后持有20天为15E天\n",
    "TradeStrategy2.set_keep_stock_threshold(20)\n",
    "#修改股票买入阀值下跌8%\n",
    "TradeStrategy2.set_buy_change_threshold(-0.08)\n",
    "\n",
    "trade_loop_back=TradeLoopBack(trade_days,trade_strategy2)\n",
    "trade_loop_back.execute_trade()\n",
    "print('通过类方法和静态方法修改策略2总盈亏{}%'.format(reduce(lambda a,b:a+b,trade_loop_back.profit_array)*100))\n",
    "plt.plot(np.array(trade_loop_back.profit_array).cumsum())"
   ]
  },
  {
   "cell_type": "markdown",
   "metadata": {},
   "source": [
    "### 性能效率"
   ]
  },
  {
   "cell_type": "code",
   "execution_count": 63,
   "metadata": {},
   "outputs": [
    {
     "name": "stdout",
     "output_type": "stream",
     "text": [
      "(1, 2, 3)\n",
      "(1, 3, 2)\n",
      "(2, 1, 3)\n",
      "(2, 3, 1)\n",
      "(3, 1, 2)\n",
      "(3, 2, 1)\n"
     ]
    }
   ],
   "source": [
    "#itertools完成数据各种排列组合以寻找最优参数\n",
    "#permutations排列 \n",
    "#combinations组合\n",
    "import itertools\n",
    "#permutations()考虑顺序组合元素\n",
    "items=[1,2,3]\n",
    "for item in itertools.permutations(items):\n",
    "    print(item)"
   ]
  },
  {
   "cell_type": "code",
   "execution_count": 64,
   "metadata": {},
   "outputs": [
    {
     "name": "stdout",
     "output_type": "stream",
     "text": [
      "(1, 2)\n",
      "(1, 3)\n",
      "(2, 3)\n"
     ]
    }
   ],
   "source": [
    "#combinations()函数，不考虑顺序，不放回数据\n",
    "for item in itertools.combinations(items,2):\n",
    "    print(item)"
   ]
  },
  {
   "cell_type": "code",
   "execution_count": 68,
   "metadata": {},
   "outputs": [
    {
     "name": "stdout",
     "output_type": "stream",
     "text": [
      "(1, 1)\n",
      "(1, 2)\n",
      "(1, 3)\n",
      "(2, 2)\n",
      "(2, 3)\n",
      "(3, 3)\n"
     ]
    }
   ],
   "source": [
    "#combinations_with_replacement()函数，不考虑顺序，有放回数据\n",
    "for item in itertools.combinations_with_replacement(items,2):\n",
    "    print(item)"
   ]
  },
  {
   "cell_type": "code",
   "execution_count": 83,
   "metadata": {},
   "outputs": [
    {
     "name": "stdout",
     "output_type": "stream",
     "text": [
      "('a', 'c')\n",
      "('a', 'd')\n",
      "('b', 'c')\n",
      "('b', 'd')\n"
     ]
    }
   ],
   "source": [
    "#product()函数 笛卡尔积\n",
    "#针对多个输入序列进行排列组合\n",
    "ab=['a','b']\n",
    "cd=['c','d']\n",
    "for item in itertools.product(ab,cd):\n",
    "    print(item)"
   ]
  },
  {
   "cell_type": "code",
   "execution_count": 72,
   "metadata": {},
   "outputs": [
    {
     "data": {
      "text/plain": [
       "(0.4660000000000001, 20, -0.08)"
      ]
     },
     "execution_count": 72,
     "metadata": {},
     "output_type": "execute_result"
    }
   ],
   "source": [
    "#寻找最优参数\n",
    "def calc(keep_stock_threshold,buy_change_threshold):\n",
    "    \"\"\"\n",
    "    keep_stock_threshold：持股天数\n",
    "    buy_change_threshold：下跌买入阀值\n",
    "    return:盈亏情况，输入的持股天数，输入的下跌买入阀值\n",
    "    \n",
    "    \"\"\"\n",
    "    trade_strategy2=TradeStrategy2()\n",
    "    TradeStrategy2.set_keep_stock_threshold(keep_stock_threshold)\n",
    "    TradeStrategy2.set_buy_change_threshold(buy_change_threshold)\n",
    "    trade_loop_back=TradeLoopBack(trade_days,trade_strategy2)\n",
    "    trade_loop_back.execute_trade()\n",
    "    \n",
    "    #计算回测结果最终盈亏值\n",
    "    profit=0.0 if len(trade_loop_back.profit_array)==0 else \\\n",
    "    reduce(lambda a,b:a+b,trade_loop_back.profit_array)\n",
    "    \n",
    "    return profit,keep_stock_threshold,buy_change_threshold\n",
    "\n",
    "calc(20,-0.08)\n",
    "    "
   ]
  },
  {
   "cell_type": "code",
   "execution_count": 79,
   "metadata": {},
   "outputs": [
    {
     "name": "stdout",
     "output_type": "stream",
     "text": [
      "[2, 4, 6, 8, 10, 12, 14, 16, 18, 20, 22, 24, 26, 28]\n",
      "[-0.05, -0.06, -0.07, -0.08, -0.09, -0.1, -0.11, -0.12, -0.13, -0.14, -0.15]\n"
     ]
    }
   ],
   "source": [
    "#使用笛卡尔积查找最优\n",
    "#买入持股天数从2-30，间隔2天\n",
    "keep_stock_list=range(2,30,2)\n",
    "print(list(keep_stock_list))\n",
    "\n",
    "#下跌买入阀值从-0.05到-0.15 即下跌5%到下跌15%\n",
    "buy_change_list=[buy_change/100.0 for buy_change in range(-5,-16,-1)]\n",
    "print(list(buy_change_list))"
   ]
  },
  {
   "cell_type": "code",
   "execution_count": 85,
   "metadata": {},
   "outputs": [
    {
     "name": "stdout",
     "output_type": "stream",
     "text": [
      "笛卡尔积集合结果154个\n"
     ]
    }
   ],
   "source": [
    "result=[]\n",
    "for keep_stock_threshold,buy_change_threshold in itertools.product(keep_stock_list,buy_change_list):\n",
    "    result.append(calc(keep_stock_threshold,buy_change_threshold))\n",
    "\n",
    "print('笛卡尔积集合结果{}个'.format(len(result)))"
   ]
  },
  {
   "cell_type": "code",
   "execution_count": 87,
   "metadata": {},
   "outputs": [
    {
     "data": {
      "text/plain": [
       "[(0.7760000000000004, 28, -0.1),\n",
       " (0.699, 28, -0.05),\n",
       " (0.6920000000000001, 26, -0.1),\n",
       " (0.6470000000000001, 24, -0.1),\n",
       " (0.6450000000000001, 28, -0.07),\n",
       " (0.634, 28, -0.13),\n",
       " (0.634, 28, -0.14),\n",
       " (0.634, 28, -0.15),\n",
       " (0.6190000000000001, 28, -0.09),\n",
       " (0.6120000000000001, 16, -0.09)]"
      ]
     },
     "execution_count": 87,
     "metadata": {},
     "output_type": "execute_result"
    }
   ],
   "source": [
    "#使用sorted(result)将结果序列排序\n",
    "#[::-1]将整个排序结果反转，反转后盈亏收益从最高向低开始排序\n",
    "#[:10]取出收益最高的前10个组合\n",
    "sorted(result)[::-1][:10]"
   ]
  },
  {
   "cell_type": "markdown",
   "metadata": {},
   "source": [
    "### 多进程 VS 多线程"
   ]
  },
  {
   "cell_type": "code",
   "execution_count": null,
   "metadata": {},
   "outputs": [],
   "source": []
  },
  {
   "cell_type": "markdown",
   "metadata": {},
   "source": [
    "### 调试"
   ]
  },
  {
   "cell_type": "code",
   "execution_count": null,
   "metadata": {
    "collapsed": true
   },
   "outputs": [],
   "source": [
    "import pdb\n",
    "def gen_buy_change_list():\n",
    "    buy_change_list=[]\n",
    "    for buy_change in range(-5,-16,-1):\n",
    "        if buy_change == -10:\n",
    "            #设置断点\n",
    "            pdb.set_trace()\n",
    "        buy_change = buy_change / 100\n",
    "        buy_change_list.append(buy_change)\n",
    "    raise RuntimeError('debuy for pdg')\n",
    "    return buy_change_list\n",
    "try:\n",
    "    _=gen_buy_change_list()\n",
    "except Exception as e:\n",
    "    pdb.set_trace()"
   ]
  },
  {
   "cell_type": "code",
   "execution_count": null,
   "metadata": {
    "collapsed": true
   },
   "outputs": [],
   "source": []
  }
 ],
 "metadata": {
  "kernelspec": {
   "display_name": "Python 3",
   "language": "python",
   "name": "python3"
  },
  "language_info": {
   "codemirror_mode": {
    "name": "ipython",
    "version": 3
   },
   "file_extension": ".py",
   "mimetype": "text/x-python",
   "name": "python",
   "nbconvert_exporter": "python",
   "pygments_lexer": "ipython3",
   "version": "3.6.3"
  }
 },
 "nbformat": 4,
 "nbformat_minor": 2
}
