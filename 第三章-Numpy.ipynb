{
 "cells": [
  {
   "cell_type": "code",
   "execution_count": 3,
   "metadata": {},
   "outputs": [
    {
     "name": "stderr",
     "output_type": "stream",
     "text": [
      "enable example env will only read RomDataBu/csv\n"
     ]
    },
    {
     "name": "stdout",
     "output_type": "stream",
     "text": [
      "abu path --> D:\\WORKSPACE-PYTHON\\abu\n"
     ]
    }
   ],
   "source": [
    "from __future__ import print_function\n",
    "import os\n",
    "import sys\n",
    "abuPath=os.path.abspath('../abu')\n",
    "print('abu path --> %s' %abuPath)\n",
    "sys.path.insert(0,abuPath)\n",
    "import abupy\n",
    "abupy.env.enable_example_env_ipython()\n",
    "\n",
    "import seaborn as sns\n",
    "import matplotlib.pyplot as plt\n",
    "\n",
    "%matplotlib inline\n",
    "sns.set_context(rc={'figure.figsize': (14, 7) } )\n",
    "figzize_me = figsize =(14, 7)\n",
    "\n"
   ]
  },
  {
   "cell_type": "code",
   "execution_count": 4,
   "metadata": {},
   "outputs": [
    {
     "name": "stdout",
     "output_type": "stream",
     "text": [
      "3.6.3 |Anaconda, Inc.| (default, Oct 15 2017, 03:27:45) [MSC v.1900 64 bit (AMD64)]\n"
     ]
    }
   ],
   "source": [
    "print(sys.version)"
   ]
  },
  {
   "cell_type": "markdown",
   "metadata": {},
   "source": [
    "### 并行化思想与基础操作"
   ]
  },
  {
   "cell_type": "code",
   "execution_count": 5,
   "metadata": {
    "collapsed": true
   },
   "outputs": [],
   "source": [
    "import numpy as np"
   ]
  },
  {
   "cell_type": "code",
   "execution_count": 6,
   "metadata": {},
   "outputs": [
    {
     "name": "stdout",
     "output_type": "stream",
     "text": [
      "308 ns ± 3.39 ns per loop (mean ± std. dev. of 7 runs, 1000000 loops each)\n"
     ]
    }
   ],
   "source": [
    "normal_list=range(10000)\n",
    "%timeit(i**2 for i in normal_list)"
   ]
  },
  {
   "cell_type": "code",
   "execution_count": 7,
   "metadata": {},
   "outputs": [
    {
     "name": "stdout",
     "output_type": "stream",
     "text": [
      "7.75 µs ± 25.5 ns per loop (mean ± std. dev. of 7 runs, 100000 loops each)\n"
     ]
    }
   ],
   "source": [
    "np_list=np.arange(10000)\n",
    "%timeit np_list**2"
   ]
  },
  {
   "cell_type": "code",
   "execution_count": 10,
   "metadata": {},
   "outputs": [
    {
     "name": "stdout",
     "output_type": "stream",
     "text": [
      "[ 3.  3.  3.  3.  3.]\n",
      "[1, 1, 1, 1, 1, 1, 1, 1, 1, 1, 1, 1, 1, 1, 1]\n"
     ]
    }
   ],
   "source": [
    "#Numpy数组和普通列表操作方式不同。Numpy通过广播机制作用于每个内部元素，是一种并行化执行的思想\n",
    "#普通list则作用于整体\n",
    "\n",
    "#注意*3的操作被运行在每一个元素\n",
    "np_list=np.ones(5)*3\n",
    "print(np_list)\n",
    "\n",
    "#普通的列表把*3操作认为是整体性操作\n",
    "normal_list=[1,1,1,1,1]*3\n",
    "print(normal_list)"
   ]
  },
  {
   "cell_type": "code",
   "execution_count": 13,
   "metadata": {},
   "outputs": [
    {
     "name": "stdout",
     "output_type": "stream",
     "text": [
      "100个0\n",
      "[ 0.  0.  0.  0.  0.  0.  0.  0.  0.  0.  0.  0.  0.  0.  0.  0.  0.  0.\n",
      "  0.  0.  0.  0.  0.  0.  0.  0.  0.  0.  0.  0.  0.  0.  0.  0.  0.  0.\n",
      "  0.  0.  0.  0.  0.  0.  0.  0.  0.  0.  0.  0.  0.  0.  0.  0.  0.  0.\n",
      "  0.  0.  0.  0.  0.  0.  0.  0.  0.  0.  0.  0.  0.  0.  0.  0.  0.  0.\n",
      "  0.  0.  0.  0.  0.  0.  0.  0.  0.  0.  0.  0.  0.  0.  0.  0.  0.  0.\n",
      "  0.  0.  0.  0.  0.  0.  0.  0.  0.  0.]\n",
      "shape: 3行2列 全是0\n",
      "[[ 0.  0.]\n",
      " [ 0.  0.]\n",
      " [ 0.  0.]]\n",
      "shape: 3行2列 全是1\n",
      "[[ 1.  1.]\n",
      " [ 1.  1.]\n",
      " [ 1.  1.]]\n",
      "shape: x=2 ,y=3 ,z=3值随机\n",
      "[[[ 4.0003  1.658   4.8288]\n",
      "  [ 4.3534  1.6016  3.7947]\n",
      "  [ 4.7343  1.5768  3.2396]]\n",
      "\n",
      " [[ 5.214   1.6077  3.3449]\n",
      "  [ 5.6481  1.6274  3.3455]\n",
      "  [ 5.9296  1.5929  2.8223]]]\n",
      "初始化序列与np_list 一样的shape,值全为1\n",
      "[ 1.  1.  1.  1.  1.]\n",
      "初始化序列与np_list 一样的shape,值全为0\n",
      "[ 0.  0.  0.  0.  0.]\n",
      "eye()得到对角线全为1的单位矩阵\n",
      "[[ 1.  0.  0.  0.  0.  0.  0.]\n",
      " [ 0.  1.  0.  0.  0.  0.  0.]\n",
      " [ 0.  0.  1.  0.  0.  0.  0.]\n",
      " [ 0.  0.  0.  1.  0.  0.  0.]\n",
      " [ 0.  0.  0.  0.  1.  0.  0.]\n",
      " [ 0.  0.  0.  0.  0.  1.  0.]\n",
      " [ 0.  0.  0.  0.  0.  0.  1.]]\n"
     ]
    }
   ],
   "source": [
    "#初始化操作\n",
    "print('100个0')\n",
    "print(np.zeros(100))\n",
    "print('shape: 3行2列 全是0')\n",
    "print(np.zeros((3,2)))\n",
    "print('shape: 3行2列 全是1')\n",
    "print(np.ones((3,2)))\n",
    "print('shape: x=2 ,y=3 ,z=3值随机')\n",
    "print(np.empty((2,3,3)))\n",
    "print('初始化序列与np_list 一样的shape,值全为1')\n",
    "print(np.ones_like(np_list))\n",
    "print('初始化序列与np_list 一样的shape,值全为0')\n",
    "print(np.zeros_like(np_list))\n",
    "print('eye()得到对角线全为1的单位矩阵')\n",
    "print(np.eye(7))\n"
   ]
  },
  {
   "cell_type": "code",
   "execution_count": 14,
   "metadata": {},
   "outputs": [
    {
     "data": {
      "text/plain": [
       "array([[1, 2, 3, 4],\n",
       "       [5, 6, 7, 8]])"
      ]
     },
     "execution_count": 14,
     "metadata": {},
     "output_type": "execute_result"
    }
   ],
   "source": [
    "#将普通list作为参数，通过np.array来初始化\n",
    "data=[[1,2,3,4],[5,6,7,8]]\n",
    "arr_np=np.array(data)\n",
    "arr_np"
   ]
  },
  {
   "cell_type": "code",
   "execution_count": 17,
   "metadata": {},
   "outputs": [
    {
     "data": {
      "text/plain": [
       "array([ 0.    ,  0.1111,  0.2222,  0.3333,  0.4444,  0.5556,  0.6667,\n",
       "        0.7778,  0.8889,  1.    ])"
      ]
     },
     "execution_count": 17,
     "metadata": {},
     "output_type": "execute_result"
    }
   ],
   "source": [
    "#使用linspace()在0~1之间等间隔生成10个元素序列\n",
    "#help(np.linspace)\n",
    "np.linspace(0,1,10)"
   ]
  },
  {
   "cell_type": "code",
   "execution_count": 21,
   "metadata": {},
   "outputs": [
    {
     "name": "stdout",
     "output_type": "stream",
     "text": [
      "打印shape(200,504) 200行504列\n",
      "(200, 504)\n",
      "[[-0.0614 -1.3719 -1.5851 ...,  0.9372 -0.4877  2.057 ]\n",
      " [ 1.36   -0.0685  0.5788 ...,  1.2759  0.078   0.8572]\n",
      " [ 0.2832 -1.4288  0.4358 ..., -0.4482  0.3904  1.2856]\n",
      " ..., \n",
      " [ 0.2506 -1.7575 -0.3163 ..., -0.7209 -0.4336  1.3043]\n",
      " [-0.2936 -0.0668  0.0277 ..., -1.277   0.0836 -1.5777]\n",
      " [-0.1234 -0.2665 -0.9452 ...,  0.267   0.6502 -0.502 ]]\n"
     ]
    }
   ],
   "source": [
    "#使用np.random.standard_normal()随机生成200个股票504个交易日服从正态分布的涨跌数据\n",
    "stock_cnt=200\n",
    "view_days=504\n",
    "#生成服从正态分布，均值期望=0 标准差=1的序列\n",
    "stock_day_change=np.random.standard_normal((stock_cnt,view_days))\n",
    "print('打印shape(200,504) 200行504列')\n",
    "print(stock_day_change.shape)\n",
    "print(stock_day_change)"
   ]
  },
  {
   "cell_type": "code",
   "execution_count": 26,
   "metadata": {},
   "outputs": [
    {
     "name": "stdout",
     "output_type": "stream",
     "text": [
      "打印第一只股票，前5个交易日的涨跌幅情况\n",
      "[[-0.0614 -1.3719 -1.5851 -0.1257  0.3711]]\n"
     ]
    }
   ],
   "source": [
    "print('打印第一只股票，前5个交易日的涨跌幅情况')\n",
    "print(stock_day_change[:1,:5])"
   ]
  },
  {
   "cell_type": "code",
   "execution_count": 27,
   "metadata": {},
   "outputs": [
    {
     "name": "stdout",
     "output_type": "stream",
     "text": [
      "打印第一只，第二只股票，0:5前5个交易日的涨跌幅数据\n",
      "[[-0.0614 -1.3719 -1.5851 -0.1257  0.3711]\n",
      " [ 1.36   -0.0685  0.5788 -0.9755  0.9264]]\n"
     ]
    }
   ],
   "source": [
    "print('打印第一只，第二只股票，0:5前5个交易日的涨跌幅数据')\n",
    "print(stock_day_change[:2,:5])"
   ]
  },
  {
   "cell_type": "code",
   "execution_count": 28,
   "metadata": {},
   "outputs": [
    {
     "name": "stdout",
     "output_type": "stream",
     "text": [
      "倒数第一只，第二只股票，最后5个交易日的涨跌幅数据\n",
      "[[ 0.2734  0.3327 -1.277   0.0836 -1.5777]\n",
      " [-0.3911 -0.4739  0.267   0.6502 -0.502 ]]\n"
     ]
    }
   ],
   "source": [
    "print('倒数第一只，第二只股票，最后5个交易日的涨跌幅数据')\n",
    "print(stock_day_change[-2:,-5:])"
   ]
  },
  {
   "cell_type": "code",
   "execution_count": 29,
   "metadata": {},
   "outputs": [
    {
     "name": "stdout",
     "output_type": "stream",
     "text": [
      "交换数据\n",
      "[[ 0.2734  0.3327 -1.277   0.0836 -1.5777]\n",
      " [-0.3911 -0.4739  0.267   0.6502 -0.502 ]]\n",
      "[[-0.0614 -1.3719 -1.5851 -0.1257  0.3711]\n",
      " [ 1.36   -0.0685  0.5788 -0.9755  0.9264]]\n"
     ]
    }
   ],
   "source": [
    "print('交换数据')\n",
    "#tmp=a\n",
    "tmp=stock_day_change[:2,:5].copy()\n",
    "#a=b\n",
    "stock_day_change[:2,:5]=stock_day_change[-2:,-5:]\n",
    "#b=tmp\n",
    "stock_day_change[-2:,-5:]=tmp\n",
    "\n",
    "print(stock_day_change[:2,:5])\n",
    "\n",
    "print(stock_day_change[-2:,-5:])\n"
   ]
  },
  {
   "cell_type": "code",
   "execution_count": 30,
   "metadata": {},
   "outputs": [
    {
     "name": "stdout",
     "output_type": "stream",
     "text": [
      "数据转换与规整\n",
      "[[ 0  0 -1  0 -1]\n",
      " [ 0  0  0  0  0]]\n"
     ]
    }
   ],
   "source": [
    "print('数据转换与规整')\n",
    "print(stock_day_change[:2,:5].astype(int))"
   ]
  },
  {
   "cell_type": "code",
   "execution_count": 31,
   "metadata": {},
   "outputs": [
    {
     "name": "stdout",
     "output_type": "stream",
     "text": [
      "保留两位小数\n",
      "[[ 0.27  0.33 -1.28  0.08 -1.58]\n",
      " [-0.39 -0.47  0.27  0.65 -0.5 ]]\n"
     ]
    }
   ],
   "source": [
    "print('保留两位小数')\n",
    "print(np.around(stock_day_change[:2,:5],2))"
   ]
  },
  {
   "cell_type": "code",
   "execution_count": 32,
   "metadata": {},
   "outputs": [
    {
     "name": "stdout",
     "output_type": "stream",
     "text": [
      "处理数据缺失\n"
     ]
    },
    {
     "data": {
      "text/plain": [
       "array([[    nan,  0.3327, -1.277 ,  0.0836, -1.5777],\n",
       "       [-0.3911, -0.4739,  0.267 ,  0.6502, -0.502 ]])"
      ]
     },
     "execution_count": 32,
     "metadata": {},
     "output_type": "execute_result"
    }
   ],
   "source": [
    "print('处理数据缺失')\n",
    "tmp_test=stock_day_change[:2,:5].copy()\n",
    "#将第一个元素改成nan\n",
    "tmp_test[0][0]=np.nan\n",
    "tmp_test"
   ]
  },
  {
   "cell_type": "code",
   "execution_count": 33,
   "metadata": {},
   "outputs": [
    {
     "name": "stdout",
     "output_type": "stream",
     "text": [
      "[[ 0.      0.3327 -1.277   0.0836 -1.5777]\n",
      " [-0.3911 -0.4739  0.267   0.6502 -0.502 ]]\n"
     ]
    }
   ],
   "source": [
    "#np.nan_to_num()用0来填充\n",
    "tmp_test=np.nan_to_num(tmp_test)\n",
    "print(tmp_test)"
   ]
  },
  {
   "cell_type": "markdown",
   "metadata": {},
   "source": [
    "#### 逻辑条件进行数据筛选"
   ]
  },
  {
   "cell_type": "code",
   "execution_count": 38,
   "metadata": {},
   "outputs": [
    {
     "name": "stdout",
     "output_type": "stream",
     "text": [
      "找出切片内涨幅超过0.5的股票时段\n",
      "[[False False False False False]\n",
      " [False False False  True False]]\n",
      "[ 0.6502]\n"
     ]
    }
   ],
   "source": [
    "print('找出切片内涨幅超过0.5的股票时段')\n",
    "mask=stock_day_change[:2,:5]>0.5\n",
    "print(mask)\n",
    "\n",
    "tmp_test=stock_day_change[:2,:5].copy()\n",
    "print(tmp_test[mask])"
   ]
  },
  {
   "cell_type": "code",
   "execution_count": 41,
   "metadata": {},
   "outputs": [
    {
     "name": "stdout",
     "output_type": "stream",
     "text": [
      "找到tmp_test切片中>0.5的元素，赋值为1\n",
      "[[ 0.2734  0.3327 -1.277   0.0836 -1.5777]\n",
      " [-0.3911 -0.4739  0.267   1.     -0.502 ]]\n"
     ]
    }
   ],
   "source": [
    "print('找到tmp_test切片中>0.5的元素，赋值为1')\n",
    "tmp_test[tmp_test>0.5]=1\n",
    "print(tmp_test)"
   ]
  },
  {
   "cell_type": "code",
   "execution_count": 44,
   "metadata": {},
   "outputs": [
    {
     "name": "stdout",
     "output_type": "stream",
     "text": [
      "多重筛选条件\n",
      "[[-0.0614 -1.3719 -1.5851 -0.1257  0.3711]\n",
      " [ 1.36   -0.0685  0.5788 -0.9755  0.9264]]\n",
      "[-1.3719 -1.5851  1.36  ]\n"
     ]
    }
   ],
   "source": [
    "print('多重筛选条件')\n",
    "temp_test=stock_day_change[-2:,-5:]\n",
    "print(temp_test)\n",
    "print(temp_test[(temp_test>1)|(temp_test<-1)])"
   ]
  },
  {
   "cell_type": "markdown",
   "metadata": {},
   "source": [
    "#### 通用序列函数"
   ]
  },
  {
   "cell_type": "code",
   "execution_count": 45,
   "metadata": {},
   "outputs": [
    {
     "name": "stdout",
     "output_type": "stream",
     "text": [
      "np.all 判断序列中的所有元素是否全部是true ,即对bool 序列进行与操作\n",
      "False\n"
     ]
    }
   ],
   "source": [
    "print('np.all 判断序列中的所有元素是否全部是true ,即对bool 序列进行与操作')\n",
    "print(np.all(stock_day_change[:2,:5]>0))"
   ]
  },
  {
   "cell_type": "code",
   "execution_count": 46,
   "metadata": {},
   "outputs": [
    {
     "name": "stdout",
     "output_type": "stream",
     "text": [
      "np.any 判断序列中是否有元素为true ,即对bool序列进行或操作\n",
      "True\n"
     ]
    }
   ],
   "source": [
    "print('np.any 判断序列中是否有元素为true ,即对bool序列进行或操作')\n",
    "print(np.any(stock_day_change[:2,:5]>0))"
   ]
  },
  {
   "cell_type": "code",
   "execution_count": 47,
   "metadata": {},
   "outputs": [
    {
     "name": "stdout",
     "output_type": "stream",
     "text": [
      "对2个序列对应的元素两两比较，maximum()结果集取大，相对minimum()取小的结果集\n",
      "[[ 0.2734  0.3327 -1.277   0.0836  0.3711]\n",
      " [ 1.36   -0.0685  0.5788  0.6502  0.9264]]\n"
     ]
    }
   ],
   "source": [
    "print('对2个序列对应的元素两两比较，maximum()结果集取大，相对minimum()取小的结果集')\n",
    "\n",
    "print(np.maximum(stock_day_change[:2,:5],stock_day_change[-2:,-5:]))"
   ]
  },
  {
   "cell_type": "code",
   "execution_count": 52,
   "metadata": {},
   "outputs": [
    {
     "name": "stdout",
     "output_type": "stream",
     "text": [
      "[[ 0  0 -1  0 -1]\n",
      " [ 0  0  0  0  0]]\n",
      "np.unique()序列中数值唯一且不重复的值组成新的序列\n",
      "[-1  0]\n"
     ]
    }
   ],
   "source": [
    "change_int=stock_day_change[:2,:5].astype(int)\n",
    "print(change_int)\n",
    "print('np.unique()序列中数值唯一且不重复的值组成新的序列')\n",
    "print(np.unique(change_int))"
   ]
  },
  {
   "cell_type": "code",
   "execution_count": 55,
   "metadata": {},
   "outputs": [
    {
     "name": "stdout",
     "output_type": "stream",
     "text": [
      "np.diff()执行的操作是前后2个临近的数值进行减法运算，默认axis=1代表操作轴向\n",
      "[[ 0.2734  0.3327 -1.277   0.0836 -1.5777]\n",
      " [-0.3911 -0.4739  0.267   0.6502 -0.502 ]]\n",
      "[[ 0.0593 -1.6096  1.3606 -1.6613]\n",
      " [-0.0828  0.7409  0.3833 -1.1522]]\n"
     ]
    }
   ],
   "source": [
    "print('np.diff()执行的操作是前后2个临近的数值进行减法运算，默认axis=1代表操作轴向')\n",
    "\n",
    "print(stock_day_change[:2,:5])\n",
    "\n",
    "print(np.diff(stock_day_change[:2,:5]))\n"
   ]
  },
  {
   "cell_type": "code",
   "execution_count": 56,
   "metadata": {},
   "outputs": [
    {
     "name": "stdout",
     "output_type": "stream",
     "text": [
      "np.where()第一个参数是条件表达式，成立走第二个，否则走第三个\n",
      "[[-0.0614 -1.3719 -1.5851 -0.1257  0.3711]\n",
      " [ 1.36   -0.0685  0.5788 -0.9755  0.9264]]\n",
      "[[0 0 0 0 0]\n",
      " [1 0 1 0 1]]\n"
     ]
    }
   ],
   "source": [
    "print('np.where()第一个参数是条件表达式，成立走第二个，否则走第三个')\n",
    "tmp_test=stock_day_change[-2:,-5:]\n",
    "print(tmp_test)\n",
    "print(np.where(tmp_test>0.5,1,0))"
   ]
  },
  {
   "cell_type": "code",
   "execution_count": 59,
   "metadata": {},
   "outputs": [
    {
     "name": "stdout",
     "output_type": "stream",
     "text": [
      "如果逻辑表达式为复合逻辑条件，则使用np.logical_and()和np.logical_or()函数\n",
      "[[-0.0614 -1.3719 -1.5851 -0.1257  0.3711]\n",
      " [ 1.36   -0.0685  0.5788 -0.9755  0.9264]]\n",
      "[[0 0 0 0 0]\n",
      " [0 0 1 0 1]]\n"
     ]
    }
   ],
   "source": [
    "print('如果逻辑表达式为复合逻辑条件，则使用np.logical_and()和np.logical_or()函数')\n",
    "print(tmp_test)\n",
    "print(np.where(np.logical_and(tmp_test>0.5,tmp_test<1),1,0))\n"
   ]
  },
  {
   "cell_type": "markdown",
   "metadata": {},
   "source": [
    "#### 数据本地序列化操作"
   ]
  },
  {
   "cell_type": "code",
   "execution_count": 62,
   "metadata": {},
   "outputs": [
    {
     "name": "stdout",
     "output_type": "stream",
     "text": [
      "保存\n"
     ]
    }
   ],
   "source": [
    "print('保存')\n",
    "np.save('./gen/stock_day_change',stock_day_change)"
   ]
  },
  {
   "cell_type": "code",
   "execution_count": 64,
   "metadata": {},
   "outputs": [
    {
     "name": "stdout",
     "output_type": "stream",
     "text": [
      "读取\n",
      "(200, 504)\n",
      "[[ 0.2734  0.3327 -1.277   0.0836 -1.5777]\n",
      " [-0.3911 -0.4739  0.267   0.6502 -0.502 ]]\n"
     ]
    }
   ],
   "source": [
    "print('读取')\n",
    "stock_day_change=np.load('./gen/stock_day_change.npy')\n",
    "print(stock_day_change.shape)\n",
    "print(stock_day_change[:2,:5])"
   ]
  },
  {
   "cell_type": "markdown",
   "metadata": {},
   "source": [
    "#### 基础统计概念与函数使用"
   ]
  },
  {
   "cell_type": "code",
   "execution_count": 65,
   "metadata": {},
   "outputs": [
    {
     "name": "stdout",
     "output_type": "stream",
     "text": [
      "取出前4只股票，前4天的涨跌幅数据\n",
      "[[ 0.2734  0.3327 -1.277   0.0836]\n",
      " [-0.3911 -0.4739  0.267   0.6502]\n",
      " [ 0.2832 -1.4288  0.4358 -0.8888]\n",
      " [-0.4795  0.6509  0.403  -0.6046]]\n"
     ]
    }
   ],
   "source": [
    "print('取出前4只股票，前4天的涨跌幅数据')\n",
    "stock_day_change_four=stock_day_change[:4,:4]\n",
    "print(stock_day_change_four)"
   ]
  },
  {
   "cell_type": "code",
   "execution_count": 66,
   "metadata": {},
   "outputs": [
    {
     "name": "stdout",
     "output_type": "stream",
     "text": [
      "最大涨幅\n",
      "[ 0.3327  0.6502  0.4358  0.6509]\n"
     ]
    }
   ],
   "source": [
    "print('最大涨幅')\n",
    "print(np.max(stock_day_change_four,axis=1))"
   ]
  },
  {
   "cell_type": "code",
   "execution_count": 67,
   "metadata": {},
   "outputs": [
    {
     "name": "stdout",
     "output_type": "stream",
     "text": [
      "最大跌幅\n",
      "[-1.277  -0.4739 -1.4288 -0.6046]\n"
     ]
    }
   ],
   "source": [
    "print('最大跌幅')\n",
    "print(np.min(stock_day_change_four,axis=1))"
   ]
  },
  {
   "cell_type": "code",
   "execution_count": 68,
   "metadata": {},
   "outputs": [
    {
     "name": "stdout",
     "output_type": "stream",
     "text": [
      "振幅幅度\n",
      "[ 0.6589  0.4666  0.7847  0.5434]\n"
     ]
    }
   ],
   "source": [
    "print('振幅幅度')\n",
    "print(np.std(stock_day_change_four,axis=1))"
   ]
  },
  {
   "cell_type": "markdown",
   "metadata": {},
   "source": [
    "print('平均涨跌')\n",
    "print(np.mean(stock_day_change_four,axis=1))"
   ]
  },
  {
   "cell_type": "code",
   "execution_count": 70,
   "metadata": {},
   "outputs": [
    {
     "name": "stdout",
     "output_type": "stream",
     "text": [
      "纵向统计数据，找到4个交易日最大涨幅\n",
      "[ 0.2832  0.6509  0.4358  0.6502]\n"
     ]
    }
   ],
   "source": [
    "print('纵向统计数据，找到4个交易日最大涨幅')\n",
    "print(np.max(stock_day_change_four,axis=0))"
   ]
  },
  {
   "cell_type": "code",
   "execution_count": 71,
   "metadata": {},
   "outputs": [
    {
     "name": "stdout",
     "output_type": "stream",
     "text": [
      "使用np.argmax()统计那一只股票在哪一个交易日涨幅最大\n",
      "[2 3 2 1]\n"
     ]
    }
   ],
   "source": [
    "print('使用np.argmax()统计当日涨幅最大的股票属于那一只')\n",
    "print(np.argmax(stock_day_change_four,axis=0))"
   ]
  },
  {
   "cell_type": "code",
   "execution_count": 72,
   "metadata": {},
   "outputs": [
    {
     "name": "stdout",
     "output_type": "stream",
     "text": [
      "使用np.argmax()统计当日跌幅最大的股票属于那一只\n",
      "[3 2 0 2]\n"
     ]
    }
   ],
   "source": [
    "print('使用np.argmax()统计当日跌幅最大的股票属于那一只')\n",
    "print(np.argmin(stock_day_change_four,axis=0))"
   ]
  },
  {
   "cell_type": "markdown",
   "metadata": {},
   "source": [
    "#### 期望：反映一组数据平均取值的大小，用于表示分布的中心位置"
   ]
  },
  {
   "cell_type": "markdown",
   "metadata": {},
   "source": [
    "####  方差：衡量一组数据的离散程度，用来度量数据和期望之间的离散程度，方差越大，数据越离散"
   ]
  },
  {
   "cell_type": "markdown",
   "metadata": {},
   "source": [
    "#### 标准差：方差的算术平方根，标准差和变量的计算单位相同，比方差清晰。"
   ]
  },
  {
   "cell_type": "code",
   "execution_count": 83,
   "metadata": {},
   "outputs": [],
   "source": [
    "#help(np.random.normal)\n",
    "#a,b交易者，期望值100，a的标准差50，b标准差20\n",
    "\n",
    "a_investor=np.random.normal(loc=100,scale=50,size=(100,1))\n",
    "b_investor=np.random.normal(loc=100,scale=20,size=(100,1))"
   ]
  },
  {
   "cell_type": "code",
   "execution_count": 84,
   "metadata": {},
   "outputs": [
    {
     "name": "stdout",
     "output_type": "stream",
     "text": [
      "a交易者\n",
      "期望值103.43,标准差51.35,方差2637.20\n"
     ]
    }
   ],
   "source": [
    "print('a交易者')\n",
    "print('期望值{0:.2f},标准差{1:.2f},方差{2:.2f}'.format(a_investor.mean(),a_investor.std(),a_investor.var()))"
   ]
  },
  {
   "cell_type": "code",
   "execution_count": 80,
   "metadata": {},
   "outputs": [
    {
     "name": "stdout",
     "output_type": "stream",
     "text": [
      "b交易者\n",
      "期望值102.19,标准差21.39,方差457.53\n"
     ]
    }
   ],
   "source": [
    "print('b交易者')\n",
    "print('期望值{0:.2f},标准差{1:.2f},方差{2:.2f}'.format(b_investor.mean(),b_investor.std(),b_investor.var()))"
   ]
  },
  {
   "cell_type": "code",
   "execution_count": 86,
   "metadata": {},
   "outputs": [
    {
     "name": "stdout",
     "output_type": "stream",
     "text": [
      "进行可视化-a交易者\n"
     ]
    },
    {
     "data": {
      "text/plain": [
       "<matplotlib.lines.Line2D at 0x10291940>"
      ]
     },
     "execution_count": 86,
     "metadata": {},
     "output_type": "execute_result"
    },
    {
     "data": {
      "image/png": "[encoded data removed]",
      "text/plain": [
       "<matplotlib.figure.Figure at 0x102f99b0>"
      ]
     },
     "metadata": {},
     "output_type": "display_data"
    }
   ],
   "source": [
    "print('进行可视化-a交易者')\n",
    "\n",
    "#a的期望值\n",
    "a_mean=a_investor.mean()\n",
    "#a交易者标准差\n",
    "a_std=a_investor.std()\n",
    "\n",
    "#绘制收益曲线\n",
    "\n",
    "plt.plot(a_investor)\n",
    "\n",
    "#水平直线-上线\n",
    "\n",
    "plt.axhline(a_mean+a_std,color='r')\n",
    "\n",
    "#均值期望线\n",
    "\n",
    "plt.axhline(a_mean,color='y')\n",
    "\n",
    "#水平直线-下线\n",
    "\n",
    "plt.axhline(a_mean-a_mean,color='g')"
   ]
  },
  {
   "cell_type": "code",
   "execution_count": null,
   "metadata": {
    "collapsed": true
   },
   "outputs": [],
   "source": []
  }
 ],
 "metadata": {
  "kernelspec": {
   "display_name": "Python 3",
   "language": "python",
   "name": "python3"
  },
  "language_info": {
   "codemirror_mode": {
    "name": "ipython",
    "version": 3
   },
   "file_extension": ".py",
   "mimetype": "text/x-python",
   "name": "python",
   "nbconvert_exporter": "python",
   "pygments_lexer": "ipython3",
   "version": "3.6.3"
  }
 },
 "nbformat": 4,
 "nbformat_minor": 2
}
