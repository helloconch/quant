{
 "cells": [
  {
   "cell_type": "markdown",
   "metadata": {},
   "source": [
    "### 使用本地abu"
   ]
  },
  {
   "cell_type": "code",
   "execution_count": 1,
   "metadata": {},
   "outputs": [
    {
     "name": "stdout",
     "output_type": "stream",
     "text": [
      "abu path --> D:\\WORKSPACE-PYTHON\\abu\n"
     ]
    },
    {
     "name": "stderr",
     "output_type": "stream",
     "text": [
      "enable example env will only read RomDataBu/csv\n"
     ]
    }
   ],
   "source": [
    "from __future__ import print_function\n",
    "import os\n",
    "import sys\n",
    "abuPath=os.path.abspath('../abu')\n",
    "print('abu path --> %s' %abuPath)\n",
    "#insert 0 只使用github中的abupy,避免交叉使用pip安装的abupy\n",
    "sys.path.insert(0,abuPath)\n",
    "import abupy\n",
    "from abupy import six,xrange,range,reduce,map,filter,partial\n",
    "#使用沙盒数据确保和书中一样的数据环境\n",
    "abupy.env.enable_example_env_ipython()"
   ]
  },
  {
   "cell_type": "code",
   "execution_count": 2,
   "metadata": {},
   "outputs": [
    {
     "name": "stdout",
     "output_type": "stream",
     "text": [
      "3.6.3 |Anaconda, Inc.| (default, Oct 15 2017, 03:27:45) [MSC v.1900 64 bit (AMD64)]\n"
     ]
    }
   ],
   "source": [
    "print(sys.version)"
   ]
  },
  {
   "cell_type": "code",
   "execution_count": 3,
   "metadata": {},
   "outputs": [
    {
     "data": {
      "text/plain": [
       "str"
      ]
     },
     "execution_count": 3,
     "metadata": {},
     "output_type": "execute_result"
    }
   ],
   "source": [
    "#使用type()来显示对象的类型\n",
    "price_str='30.14, 29.58, 26.36, 32.56, 32.82'\n",
    "type(price_str)"
   ]
  },
  {
   "cell_type": "code",
   "execution_count": 4,
   "metadata": {},
   "outputs": [
    {
     "name": "stdout",
     "output_type": "stream",
     "text": [
      "price_str is str\n"
     ]
    }
   ],
   "source": [
    "if not isinstance(price_str,str):\n",
    "    price_str=str(price_str)\n",
    "elif isinstance(price_str,float):\n",
    "    price_str=1.0\n",
    "else:\n",
    "    print('price_str is str')"
   ]
  },
  {
   "cell_type": "markdown",
   "metadata": {},
   "source": [
    "#### 字符串和容器"
   ]
  },
  {
   "cell_type": "code",
   "execution_count": 5,
   "metadata": {},
   "outputs": [
    {
     "name": "stdout",
     "output_type": "stream",
     "text": [
      "原始price_str id=111486912\n",
      "新的price_str id=237094512\n"
     ]
    }
   ],
   "source": [
    "print('原始price_str id={}'.format(id(price_str)))\n",
    "price_str=price_str.replace(' ','')\n",
    "print('新的price_str id={}'.format(id(price_str)))"
   ]
  },
  {
   "cell_type": "code",
   "execution_count": 21,
   "metadata": {},
   "outputs": [
    {
     "name": "stdout",
     "output_type": "stream",
     "text": [
      "['30.14', '29.58', '26.36', '32.56', '32.82']\n",
      "['30.14', '29.58', '26.36', '32.56', '32.82', '32.82']\n"
     ]
    }
   ],
   "source": [
    "#数组\n",
    "price_array=price_str.split(',')\n",
    "print(price_array)\n",
    "#尾部append一个重复的32.82\n",
    "price_array.append('32.82')\n",
    "print(price_array)"
   ]
  },
  {
   "cell_type": "code",
   "execution_count": 77,
   "metadata": {},
   "outputs": [
    {
     "name": "stdout",
     "output_type": "stream",
     "text": [
      "['30.14', '29.58', '26.36', '32.56', '32.82', '32.82']\n",
      "['30.14', '29.58', '26.36', '32.56', '32.82']\n"
     ]
    }
   ],
   "source": [
    "print(price_array)\n",
    "#remove()函数只移除第一次出现的数据\n",
    "price_array.remove('32.82')\n",
    "print(price_array)"
   ]
  },
  {
   "cell_type": "code",
   "execution_count": 78,
   "metadata": {},
   "outputs": [
    {
     "name": "stdout",
     "output_type": "stream",
     "text": [
      "{'30.14', '32.82', '32.56', '26.36', '29.58'}\n",
      "['30.14', '29.58', '26.36', '32.56', '32.82']\n"
     ]
    }
   ],
   "source": [
    "#集合是一个无序容器，且集合中元素不重复，使用set()函数转化为集合\n",
    "print(set(price_array))\n",
    "print(price_array)"
   ]
  },
  {
   "cell_type": "code",
   "execution_count": 79,
   "metadata": {},
   "outputs": [
    {
     "name": "stdout",
     "output_type": "stream",
     "text": [
      "['20170118', '20170119', '20170120', '20170121', '20170122']\n"
     ]
    }
   ],
   "source": [
    "#循环\n",
    "date_array=[]\n",
    "date_base=20170118\n",
    "#用for进行计数，无用变量python使用'_'声明\n",
    "for _ in xrange(0,len(price_array)):\n",
    "    date_array.append(str(date_base))\n",
    "    date_base+=1\n",
    "print(date_array)"
   ]
  },
  {
   "cell_type": "code",
   "execution_count": 80,
   "metadata": {},
   "outputs": [
    {
     "data": {
      "text/plain": [
       "['20170118', '20170119', '20170120', '20170121', '20170122']"
      ]
     },
     "execution_count": 80,
     "metadata": {},
     "output_type": "execute_result"
    }
   ],
   "source": [
    "#列表推导式\n",
    "date_base=20170118\n",
    "date_array=[str(date_base + ind) for ind , _ in enumerate(price_array)]\n",
    "date_array"
   ]
  },
  {
   "cell_type": "code",
   "execution_count": 81,
   "metadata": {},
   "outputs": [
    {
     "name": "stdout",
     "output_type": "stream",
     "text": [
      "20170119日价格29.58\n"
     ]
    },
    {
     "data": {
      "text/plain": [
       "[('20170118', '30.14'),\n",
       " ('20170119', '29.58'),\n",
       " ('20170120', '26.36'),\n",
       " ('20170121', '32.56'),\n",
       " ('20170122', '32.82')]"
      ]
     },
     "execution_count": 81,
     "metadata": {},
     "output_type": "execute_result"
    }
   ],
   "source": [
    "#使用tuple元祖封装交易日期和收盘价格\n",
    "stock_tuple_list=[(date,price) for date,price in zip(date_array,price_array)]\n",
    "print('20170119日价格%s'%(stock_tuple_list[1][1]))\n",
    "stock_tuple_list\n"
   ]
  },
  {
   "cell_type": "code",
   "execution_count": 82,
   "metadata": {},
   "outputs": [
    {
     "name": "stdout",
     "output_type": "stream",
     "text": [
      "20170119日价格29.58\n"
     ]
    },
    {
     "data": {
      "text/plain": [
       "[stock(date='20170118', price='30.14'),\n",
       " stock(date='20170119', price='29.58'),\n",
       " stock(date='20170120', price='26.36'),\n",
       " stock(date='20170121', price='32.56'),\n",
       " stock(date='20170122', price='32.82')]"
      ]
     },
     "execution_count": 82,
     "metadata": {},
     "output_type": "execute_result"
    }
   ],
   "source": [
    "#通过可命名元祖namedtuple提高访问灵活性\n",
    "from collections import namedtuple\n",
    "stock_namedtuple=namedtuple('stock',('date','price'))\n",
    "stock_namedtuple_list=[stock_namedtuple(date,price) for date,price in zip(date_array,price_array)]\n",
    "print('20170119日价格%s'%(stock_namedtuple_list[1].price))\n",
    "stock_namedtuple_list"
   ]
  },
  {
   "cell_type": "code",
   "execution_count": 83,
   "metadata": {},
   "outputs": [
    {
     "name": "stdout",
     "output_type": "stream",
     "text": [
      "20170119日价格29.58\n"
     ]
    },
    {
     "data": {
      "text/plain": [
       "{'20170118': '30.14',\n",
       " '20170119': '29.58',\n",
       " '20170120': '26.36',\n",
       " '20170121': '32.56',\n",
       " '20170122': '32.82'}"
      ]
     },
     "execution_count": 83,
     "metadata": {},
     "output_type": "execute_result"
    }
   ],
   "source": [
    "#字典推导式 {key:value for key,value in }\n",
    "\n",
    "stock_dict={date:price for date,price in zip(date_array,price_array)}\n",
    "\n",
    "print('20170119日价格%s' %(stock_dict['20170119']))\n",
    "stock_dict\n"
   ]
  },
  {
   "cell_type": "code",
   "execution_count": 84,
   "metadata": {},
   "outputs": [
    {
     "name": "stdout",
     "output_type": "stream",
     "text": [
      "字典中keys->dict_keys(['20170118', '20170119', '20170120', '20170121', '20170122'])\n",
      "字典中keys->dict_values(['30.14', '29.58', '26.36', '32.56', '32.82'])\n"
     ]
    }
   ],
   "source": [
    "print('字典中keys->%s'%(stock_dict.keys()))\n",
    "print('字典中keys->%s'%(stock_dict.values()))"
   ]
  },
  {
   "cell_type": "code",
   "execution_count": 85,
   "metadata": {},
   "outputs": [
    {
     "name": "stdout",
     "output_type": "stream",
     "text": [
      "有序字典 OrderedDict([('20170118', '30.14'), ('20170119', '29.58'), ('20170120', '26.36'), ('20170121', '32.56'), ('20170122', '32.82')])\n"
     ]
    }
   ],
   "source": [
    "#字典存储无序，OrderedDict确保有序\n",
    "from collections import OrderedDict\n",
    "stock_dict=OrderedDict((date,price)for date,price in zip(date_array,price_array))\n",
    "\n",
    "print('有序字典 %s' %(stock_dict))\n"
   ]
  },
  {
   "cell_type": "markdown",
   "metadata": {},
   "source": [
    "### 函数"
   ]
  },
  {
   "cell_type": "code",
   "execution_count": 86,
   "metadata": {},
   "outputs": [
    {
     "data": {
      "text/plain": [
       "('26.36', '20170120')"
      ]
     },
     "execution_count": 86,
     "metadata": {},
     "output_type": "execute_result"
    }
   ],
   "source": [
    "#从字典中查找最小的收盘价格以及对应日期\n",
    "min(zip(stock_dict.values(),stock_dict.keys()))"
   ]
  },
  {
   "cell_type": "code",
   "execution_count": 87,
   "metadata": {},
   "outputs": [
    {
     "name": "stdout",
     "output_type": "stream",
     "text": [
      "('32.56', '20170121')\n"
     ]
    }
   ],
   "source": [
    "#通过函数方式查找第二大的收盘价格\n",
    "def find_second_max(dict_array):\n",
    "    #进行升序排序\n",
    "    stock_prices_sorted=sorted(zip(dict_array.values(),dict_array.keys()))\n",
    "    #倒数第二个即为第二大收盘价格\n",
    "    return stock_prices_sorted[-2]\n",
    "#callable()验证是否为一个可调用的函数\n",
    "if callable(find_second_max):\n",
    "    print(find_second_max(stock_dict))"
   ]
  },
  {
   "cell_type": "code",
   "execution_count": 88,
   "metadata": {},
   "outputs": [
    {
     "data": {
      "text/plain": [
       "('32.56', '20170121')"
      ]
     },
     "execution_count": 88,
     "metadata": {},
     "output_type": "execute_result"
    }
   ],
   "source": [
    "#使用lambda匿名函数轻量级完成任务\n",
    "find_second_max_lambda=lambda dict_array:sorted(zip(dict_array.values(),dict_array.keys()))[-2]\n",
    "find_second_max_lambda(stock_dict)"
   ]
  },
  {
   "cell_type": "code",
   "execution_count": 89,
   "metadata": {},
   "outputs": [
    {
     "data": {
      "text/plain": [
       "(('26.36', '20170120'), ('29.58', '20170119'))"
      ]
     },
     "execution_count": 89,
     "metadata": {},
     "output_type": "execute_result"
    }
   ],
   "source": [
    "#返回多个返回值，实际为tuple队列\n",
    "def find_second_max_2(dict_array):\n",
    "    #进行升序排序\n",
    "    stock_prices_sorted=sorted(zip(dict_array.values(),dict_array.keys()))\n",
    "    #倒数第二个即为第二大收盘价格\n",
    "    return stock_prices_sorted[0],stock_prices_sorted[1]\n",
    "\n",
    "find_second_max_2(stock_dict)"
   ]
  },
  {
   "cell_type": "markdown",
   "metadata": {},
   "source": [
    "#### 高阶函数"
   ]
  },
  {
   "cell_type": "code",
   "execution_count": 90,
   "metadata": {},
   "outputs": [
    {
     "data": {
      "text/plain": [
       "[(30.14, 29.58), (29.58, 26.36), (26.36, 32.56), (32.56, 32.82)]"
      ]
     },
     "execution_count": 90,
     "metadata": {},
     "output_type": "execute_result"
    }
   ],
   "source": [
    "#从收盘价格，推导出每天涨跌幅度\n",
    "#获取有序日期收盘价格\n",
    "price_float_array=[float(price_str) for price_str in stock_dict.values()]\n",
    "\n",
    "#通过时间平移形成两个错开的收盘价序列，通过zip打包成一个新序列\n",
    "#[:-1]从0到倒数第二个\n",
    "#[1:]从1到最后一个\n",
    "pp_array=[(price1,price2)for price1,price2 in zip(price_float_array[:-1],price_float_array[1:])]\n",
    "pp_array\n"
   ]
  },
  {
   "cell_type": "code",
   "execution_count": 93,
   "metadata": {},
   "outputs": [
    {
     "data": {
      "text/plain": [
       "[0, -0.019, -0.109, 0.235, 0.008]"
      ]
     },
     "execution_count": 93,
     "metadata": {},
     "output_type": "execute_result"
    }
   ],
   "source": [
    "#使用高阶函数\n",
    "calc_round=lambda a,b:round((b-a)/a,3)\n",
    "calc_reduce=lambda pp:reduce(calc_round,pp)\n",
    "calc_result=map(calc_reduce,pp_array)\n",
    "change_array=list(calc_result)\n",
    "#将第一天的涨幅设置为0\n",
    "change_array.insert(0,0)\n",
    "change_array"
   ]
  },
  {
   "cell_type": "code",
   "execution_count": 95,
   "metadata": {},
   "outputs": [
    {
     "data": {
      "text/plain": [
       "OrderedDict([('20170118', stock(date='20170118', price='30.14', change=0)),\n",
       "             ('20170119',\n",
       "              stock(date='20170119', price='29.58', change=-0.019)),\n",
       "             ('20170120',\n",
       "              stock(date='20170120', price='26.36', change=-0.109)),\n",
       "             ('20170121', stock(date='20170121', price='32.56', change=0.235)),\n",
       "             ('20170122',\n",
       "              stock(date='20170122', price='32.82', change=0.008))])"
      ]
     },
     "execution_count": 95,
     "metadata": {},
     "output_type": "execute_result"
    }
   ],
   "source": [
    "#使用namedtuple重新构建数据结构\n",
    "from collections import namedtuple\n",
    "from collections import OrderedDict\n",
    "stock_namedtuple=namedtuple('stock',('date','price','change'))\n",
    "stock_dict=OrderedDict((date,stock_namedtuple(date,price,change)) for date,price,change in zip(date_array,price_array,change_array))\n",
    "stock_dict"
   ]
  },
  {
   "cell_type": "code",
   "execution_count": 99,
   "metadata": {},
   "outputs": [
    {
     "data": {
      "text/plain": [
       "[stock(date='20170121', price='32.56', change=0.235),\n",
       " stock(date='20170122', price='32.82', change=0.008)]"
      ]
     },
     "execution_count": 99,
     "metadata": {},
     "output_type": "execute_result"
    }
   ],
   "source": [
    "#使用高阶函数筛选上涨的日期\n",
    "up_days=list(filter(lambda stock:stock.change> 0,stock_dict.values()))\n",
    "up_days"
   ]
  },
  {
   "cell_type": "code",
   "execution_count": null,
   "metadata": {
    "collapsed": true
   },
   "outputs": [],
   "source": [
    "#编写一个函数，展示不同需求"
   ]
  }
 ],
 "metadata": {
  "kernelspec": {
   "display_name": "Python 3",
   "language": "python",
   "name": "python3"
  },
  "language_info": {
   "codemirror_mode": {
    "name": "ipython",
    "version": 3
   },
   "file_extension": ".py",
   "mimetype": "text/x-python",
   "name": "python",
   "nbconvert_exporter": "python",
   "pygments_lexer": "ipython3",
   "version": "3.6.3"
  }
 },
 "nbformat": 4,
 "nbformat_minor": 2
}
